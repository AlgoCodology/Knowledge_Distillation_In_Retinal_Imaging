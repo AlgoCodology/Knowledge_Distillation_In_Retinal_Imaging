{
 "cells": [
  {
   "cell_type": "code",
   "execution_count": 3,
   "id": "9763e704",
   "metadata": {
    "scrolled": true
   },
   "outputs": [],
   "source": [
    "import os\n",
    "os.environ['CUDA_VISIBLE_DEVICES'] = '-1'"
   ]
  },
  {
   "cell_type": "code",
   "execution_count": 4,
   "id": "7a9bc1c6",
   "metadata": {
    "scrolled": true
   },
   "outputs": [
    {
     "data": {
      "application/javascript": [
       "IPython.OutputArea.prototype._should_scroll = function(lines) {\n",
       "    return false;\n",
       "}\n"
      ],
      "text/plain": [
       "<IPython.core.display.Javascript object>"
      ]
     },
     "metadata": {},
     "output_type": "display_data"
    }
   ],
   "source": [
    "%%javascript\n",
    "IPython.OutputArea.prototype._should_scroll = function(lines) {\n",
    "    return false;\n",
    "}"
   ]
  },
  {
   "cell_type": "code",
   "execution_count": 5,
   "id": "e8b33ed5",
   "metadata": {
    "scrolled": true
   },
   "outputs": [],
   "source": [
    "# !ls ./\n",
    "# !ls ./"
   ]
  },
  {
   "cell_type": "code",
   "execution_count": 6,
   "id": "be17b258",
   "metadata": {},
   "outputs": [
    {
     "name": "stdout",
     "output_type": "stream",
     "text": [
      "375M\t/mnt/ssd_folder/datasets/ParaguayDR/\n"
     ]
    }
   ],
   "source": [
    "!du -sh ./datasets/ParaguayDR/"
   ]
  },
  {
   "cell_type": "code",
   "execution_count": 7,
   "id": "f03aa813",
   "metadata": {},
   "outputs": [],
   "source": [
    "# !pip uninstall numpy\n",
    "# !pip install numpy"
   ]
  },
  {
   "cell_type": "code",
   "execution_count": 8,
   "id": "fef3104c",
   "metadata": {
    "scrolled": true
   },
   "outputs": [
    {
     "name": "stderr",
     "output_type": "stream",
     "text": [
      "2023-07-12 07:05:39.882954: I tensorflow/stream_executor/platform/default/dso_loader.cc:49] Successfully opened dynamic library libcudart.so.10.1\n"
     ]
    }
   ],
   "source": [
    "# Importing necessary libraries\n",
    "import time\n",
    "import pandas as pd\n",
    "import numpy as np\n",
    "import tensorflow as tf\n",
    "import PIL\n",
    "from PIL import ImageFilter\n",
    "# from tensorflow.python import keras\n",
    "from tensorflow import keras\n",
    "from tensorflow.keras.models import load_model, Model\n",
    "# import tensorflow_hub as hub\n",
    "# from tensorflow.keras.applications import EfficientNetB4, MobileNetV3Small\n",
    "from tensorflow.keras.preprocessing.image import ImageDataGenerator\n",
    "from tensorflow.keras.callbacks import EarlyStopping, ModelCheckpoint,ReduceLROnPlateau, TensorBoard\n",
    "from tensorflow.keras import layers\n",
    "from tensorflow.keras.layers import Input, Average\n",
    "from tensorflow.keras import mixed_precision\n",
    "from tensorflow.keras.applications import *\n",
    "\n",
    "# from tensorflow.keras.mixed_precision import experimental as mixed_precision\n",
    "import os"
   ]
  },
  {
   "cell_type": "code",
   "execution_count": 9,
   "id": "49763d6a",
   "metadata": {
    "scrolled": true
   },
   "outputs": [
    {
     "name": "stdout",
     "output_type": "stream",
     "text": [
      "WARNING:tensorflow:Mixed precision compatibility check (mixed_float16): WARNING\n",
      "The dtype policy mixed_float16 may run slowly because this machine does not have a GPU. Only Nvidia GPUs with compute capability of at least 7.0 run quickly with mixed_float16.\n",
      "If you will use compatible GPU(s) not attached to this host, e.g. by running a multi-worker model, you can ignore this warning. This message will only be logged once\n"
     ]
    },
    {
     "name": "stderr",
     "output_type": "stream",
     "text": [
      "2023-07-12 07:05:41.322234: I tensorflow/compiler/jit/xla_cpu_device.cc:41] Not creating XLA devices, tf_xla_enable_xla_devices not set\n",
      "2023-07-12 07:05:41.323430: I tensorflow/stream_executor/platform/default/dso_loader.cc:49] Successfully opened dynamic library libcuda.so.1\n",
      "2023-07-12 07:05:41.351041: E tensorflow/stream_executor/cuda/cuda_driver.cc:328] failed call to cuInit: CUDA_ERROR_NO_DEVICE: no CUDA-capable device is detected\n",
      "2023-07-12 07:05:41.351087: I tensorflow/stream_executor/cuda/cuda_diagnostics.cc:163] no NVIDIA GPU device is present: /dev/nvidia0 does not exist\n"
     ]
    }
   ],
   "source": [
    "# Enable mixed precision\n",
    "mixed_precision.set_global_policy('mixed_float16')\n",
    "# mixed_precision.set_global_policy('float32')\n",
    "import warnings\n",
    "warnings.filterwarnings('ignore')"
   ]
  },
  {
   "cell_type": "code",
   "execution_count": 10,
   "id": "1992b0bd",
   "metadata": {
    "scrolled": true
   },
   "outputs": [],
   "source": [
    "df=pd.read_csv(\"./datasets/Kaggle/retinopathy_solution.csv\")\n",
    "df2=pd.read_csv(\"./datasets/Kaggle/trainLabels.csv\")\n",
    "df=pd.concat([df, df2])\n",
    "df=df[['image','level']]\n",
    "df= df.drop_duplicates()\n",
    "# df.to_csv('./datasets/Kaggle/all_labels.csv',header=True, index=False)\n",
    "\n",
    "dataset_path = r'./datasets/'\n",
    "\n",
    "idrid_path = dataset_path + \"IDRiD/\"\n",
    "kaggle_path = dataset_path + \"Kaggle/\"\n",
    "messidor_path = dataset_path + \"Messidor-2/\"\n",
    "\n",
    "idrid_path_train_test = dataset_path + \"IDRiD/images/train/\"\n",
    "kaggle_path_train_test = dataset_path + \"Kaggle/images/\"\n",
    "messidor_path_train_test = dataset_path + \"Messidor-2/images/\"\n",
    "\n",
    "kaggle_csv = \"./datasets/Kaggle/all_labels.csv\"\n",
    "# kaggle_csv = \"./datasets/Kaggle/trainLabels.csv\"\n",
    "idrid_csv = idrid_path + \"a. IDRiD_Disease Grading_Training Labels.csv\"\n",
    "messidor_csv = messidor_path + \"reference.csv\"\n",
    "\n",
    "idrid_columns = ['Image name', 'Retinopathy grade']\n",
    "kaggle_columns = ['image', 'level']\n",
    "messidor_columns = ['i_image','i_adjudicated_dr_grade']"
   ]
  },
  {
   "cell_type": "code",
   "execution_count": 11,
   "id": "3586fb30",
   "metadata": {
    "scrolled": true
   },
   "outputs": [],
   "source": [
    "# folder = r'/mnt/data/datasets/Messidor-2/images/'\n",
    "# files = os.listdir(folder)\n",
    "# files = os.listdir(idrid_path)"
   ]
  },
  {
   "cell_type": "code",
   "execution_count": 12,
   "id": "8bcef3c2",
   "metadata": {
    "scrolled": true
   },
   "outputs": [
    {
     "name": "stdout",
     "output_type": "stream",
     "text": [
      "Found 1000 validated image filenames belonging to 5 classes.\n"
     ]
    }
   ],
   "source": [
    "# Define the paths to the image directory and the CSV file\n",
    "# train_image_dir: str = idrid_path_train_test\n",
    "train_image_dir: str = kaggle_path_train_test\n",
    "# train_image_dir: str = messidor_path_train_test\n",
    "# csv_file_train = idrid_path + 'a. IDRiD_Disease Grading_Training Labels.csv'\n",
    "# csv_file_test = idrid_path + 'b. IDRiD_Disease Grading_Testing Labels.csv'\n",
    "csv_file = kaggle_csv #kaggle_csv #idrid_csv #messidor_csv\n",
    "# Loading the dataset\n",
    "# df = pd.read_csv(csv_file)\n",
    "\n",
    "# #uncomment for idrid data\n",
    "# df = df[idrid_columns]\n",
    "# print(df.shape)\n",
    "# df['Image name'] = df['Image name'].astype(str) + \".png\"\n",
    "# df['Retinopathy grade'] = df['Retinopathy grade'].astype(str)\n",
    "# df.rename(columns={'Image name': 'img_name', 'Retinopathy grade': 'label'}, inplace=True)\n",
    "# df.dropna(how='all', inplace = True)\n",
    "# df = df[df['label'].notnull()]\n",
    "# df_shuffled = df.sample(frac=1, random_state=1)\n",
    "# df2 = df_shuffled.copy()\n",
    "# print(df2.shape)\n",
    "\n",
    "# #uncomment for kaggle data\n",
    "df = df[kaggle_columns]\n",
    "df['image'] = df['image'].astype(str) + \".png\"\n",
    "df['level'] = df['level'].astype(str)\n",
    "df.rename(columns={'image': 'img_name', 'level': 'label'}, inplace=True)\n",
    "df.dropna(how='all', inplace = True)\n",
    "df = df[df['label'].notnull()]\n",
    "df_shuffled = df.sample(frac=1, random_state=1)\n",
    "df2=df_shuffled.iloc[:1000]\n",
    "# df1=df_shuffled.iloc[2048:50048] #including 6000*4 number of elements i.e. max 6000 batches of 4 of which 4500 for training and 1500 for validation\n",
    "# print(df1.head(),df1.shape, df2.head(),df2.shape)\n",
    "\n",
    "# # uncomment for messidor data\n",
    "# df = df[messidor_columns]\n",
    "# df['image'] = df['image'].astype(str) + \".png\"\n",
    "# df['level'] = df['level'].astype(str)\n",
    "# df.rename(columns={'i_image': 'img_name', 'i_adjudicated_dr_grade': 'label'}, inplace=True)\n",
    "# df.dropna(how='all', inplace = True)\n",
    "# df = df[df['label'].notnull()]\n",
    "# df_shuffled = df.sample(frac=1, random_state=1)\n",
    "# df2 = df_shuffled.copy()\n",
    "# print(df2.shape)\n",
    "\n",
    "\n",
    "# Creating the image generator\n",
    "# datagen = ImageDataGenerator(rescale=1. / 255)\n",
    "#rotation_range --> minus to plus number of degrees of rotation\n",
    "'''\n",
    "ONE POSSIBLE PREPROCESSING FUNC preprocessing_function=lambda x: np.array(PIL.Image.fromarray(x).filter(ImageFilter.GaussianBlur(radius=2)).getdata()).reshape(data.size[::-1]+(-1,)).astype(np.uint8) if (np.random.rand() < 0.33) else np.array(PIL.Image.fromarray(x).filter(ImageFilter.SHARPEN).getdata()).reshape(data.size[::-1]+(-1,)).astype(np.uint8) if (np.random.rand() < 0.67) else x,\n",
    "'''\n",
    "test_datagen = ImageDataGenerator(rescale=None)\n",
    "\n",
    "test_generator = test_datagen.flow_from_dataframe(\n",
    "    dataframe=df2,\n",
    "    directory=train_image_dir,\n",
    "    x_col=\"img_name\",\n",
    "    y_col=\"label\",\n",
    "    target_size=(512, 512),\n",
    "    batch_size=10,\n",
    "    shuffle=False,\n",
    "    class_mode='categorical'\n",
    "    )"
   ]
  },
  {
   "cell_type": "code",
   "execution_count": 13,
   "id": "49a3b527",
   "metadata": {},
   "outputs": [],
   "source": [
    "x=test_generator.next()"
   ]
  },
  {
   "cell_type": "code",
   "execution_count": null,
   "id": "324bf956",
   "metadata": {},
   "outputs": [],
   "source": []
  },
  {
   "cell_type": "code",
   "execution_count": 14,
   "id": "6f1dfa15",
   "metadata": {},
   "outputs": [],
   "source": [
    "# models=['b0','b1','b2','Ensemble_b0b1','Ensemble_b0b1b2','b5','b6','b7','Ensemble_b5b6b7']\n",
    "# for model_selected in models:\n",
    "#     if model_selected == 'b0':\n",
    "#         base_model = EfficientNetB0(input_shape=(512, 512, 3), include_top=False, weights='imagenet', pooling='avg')\n",
    "#         mname = 'EffNetB0_distilled'\n",
    "#         y = base_model.output\n",
    "#         y = tf.keras.layers.Dropout(0.2)(y)\n",
    "#         logits = tf.keras.layers.Dense(5, name = 'logits')(y)\n",
    "#         m = tf.keras.models.Model(inputs=base_model.input, outputs=logits, name = mname)\n",
    "        \n",
    "#     elif model_selected == 'b1':\n",
    "#         base_model = EfficientNetB1(input_shape=(512, 512, 3), include_top=False, weights='imagenet', pooling='avg')\n",
    "#         mname = 'EffNetB1_distilled'\n",
    "#         y = base_model.output\n",
    "#         y = tf.keras.layers.Dropout(0.2)(y)\n",
    "#         logits = tf.keras.layers.Dense(5, name = 'logits')(y)\n",
    "#         m = tf.keras.models.Model(inputs=base_model.input, outputs=logits, name = mname)\n",
    "        \n",
    "#     elif model_selected == 'b2':\n",
    "#         base_model = EfficientNetB2(input_shape=(512, 512, 3), include_top=False, weights='imagenet', pooling='avg')\n",
    "#         mname = 'EffNetB2_distilled'\n",
    "#         y = base_model.output\n",
    "#         y = tf.keras.layers.Dropout(0.2)(y)\n",
    "#         logits = tf.keras.layers.Dense(5, name = 'logits')(y)\n",
    "#         m = tf.keras.models.Model(inputs=base_model.input, outputs=logits, name = mname)\n",
    "        \n",
    "#     elif model_selected == 'Ensemble_b0b1':\n",
    "#         base_model1 = EfficientNetB0(input_shape=(512, 512, 3), include_top=False, weights='imagenet', pooling='avg')\n",
    "#         base_model2 = EfficientNetB1(input_shape=(512, 512, 3), include_top=False, weights='imagenet', pooling='avg')\n",
    "#         mname = 'Ensemble_B0B1_distilled'\n",
    "#         y1 = base_model1.output\n",
    "#         y1 = tf.keras.layers.Dropout(0.2)(y1)\n",
    "#         logits1 = tf.keras.layers.Dense(5, name = 'logits')(y1)\n",
    "#         y2 = base_model2.output\n",
    "#         y2 = tf.keras.layers.Dropout(0.2)(y2)\n",
    "#         logits2 = tf.keras.layers.Dense(5, name = 'logits')(y2)\n",
    "#         m1 = Model(inputs=base_model1.input, outputs=logits1, name='EfficientNetB0')\n",
    "#         m2 = Model(inputs=base_model2.input, outputs=logits2, name='EfficientNetB1')\n",
    "#         inp = Input(shape=(512, 512, 3), name = 'input')\n",
    "#         m1o = m1(inp)\n",
    "#         m2o = m2(inp)\n",
    "#         mo = Average(name = 'average')([m1o, m2o])#, model4_output])\n",
    "#         m = tf.keras.models.Model(inputs=inp, outputs=mo, name = mname)\n",
    "        \n",
    "#     elif model_selected == 'Ensemble_b0b1b2':\n",
    "#         base_model1 = EfficientNetB0(input_shape=(512, 512, 3), include_top=False, weights='imagenet', pooling='avg')\n",
    "#         base_model2 = EfficientNetB1(input_shape=(512, 512, 3), include_top=False, weights='imagenet', pooling='avg')\n",
    "#         base_model3 = EfficientNetB2(input_shape=(512, 512, 3), include_top=False, weights='imagenet', pooling='avg')\n",
    "#         mname = 'Ensemble_B0B1B2_distilled'\n",
    "#         y1 = base_model1.output\n",
    "#         y1 = tf.keras.layers.Dropout(0.2)(y1)\n",
    "#         logits1 = tf.keras.layers.Dense(5, name = 'logits')(y1)\n",
    "#         y2 = base_model2.output\n",
    "#         y2 = tf.keras.layers.Dropout(0.2)(y2)\n",
    "#         logits2 = tf.keras.layers.Dense(5, name = 'logits')(y2)\n",
    "#         y3 = base_model3.output\n",
    "#         y3 = tf.keras.layers.Dropout(0.2)(y3)\n",
    "#         logits3 = tf.keras.layers.Dense(5, name = 'logits')(y3)\n",
    "#         m1 = Model(inputs=base_model1.input, outputs=logits1, name='EfficientNetB0')\n",
    "#         m2 = Model(inputs=base_model2.input, outputs=logits2, name='EfficientNetB1')\n",
    "#         m3 = Model(inputs=base_model3.input, outputs=logits3, name='EfficientNetB2')\n",
    "#         inp = Input(shape=(512, 512, 3), name = 'input')\n",
    "#         m1o = m1(inp)\n",
    "#         m2o = m2(inp)\n",
    "#         m3o = m3(inp)\n",
    "#         mo = Average(name = 'average')([m1o, m2o,m3o])#, model4_output])\n",
    "#         m = tf.keras.models.Model(inputs=inp, outputs=mo, name = mname)\n",
    "        \n",
    "#     elif model_selected == 'b5':\n",
    "#         base_model = EfficientNetB5(input_shape=(512, 512, 3), include_top=False, weights='imagenet', pooling='avg')\n",
    "#         mname = 'EffNetB5_distilled'\n",
    "#         y = base_model.output\n",
    "#         y = tf.keras.layers.Dropout(0.2)(y)\n",
    "#         logits = tf.keras.layers.Dense(5, name = 'logits')(y)\n",
    "#         m = tf.keras.models.Model(inputs=base_model.input, outputs=logits, name = mname)\n",
    "        \n",
    "#     elif model_selected == 'b6':\n",
    "#         base_model = EfficientNetB6(input_shape=(512, 512, 3), include_top=False, weights='imagenet', pooling='avg')\n",
    "#         mname = 'EffNetB6_distilled'\n",
    "#         y = base_model.output\n",
    "#         y = tf.keras.layers.Dropout(0.2)(y)\n",
    "#         logits = tf.keras.layers.Dense(5, name = 'logits')(y)\n",
    "#         m = tf.keras.models.Model(inputs=base_model.input, outputs=logits, name = mname)\n",
    "        \n",
    "#     elif model_selected == 'b7':\n",
    "#         base_model = EfficientNetB7(input_shape=(512, 512, 3), include_top=False, weights='imagenet', pooling='avg')\n",
    "#         mname = 'EffNetB7_distilled'\n",
    "#         y = base_model.output\n",
    "#         y = tf.keras.layers.Dropout(0.2)(y)\n",
    "#         logits = tf.keras.layers.Dense(5, name = 'logits')(y)\n",
    "#         m = tf.keras.models.Model(inputs=base_model.input, outputs=logits, name = mname)\n",
    "\n",
    "#     elif model_selected == 'Ensemble_b5b6b7':\n",
    "#         base_model1 = EfficientNetB5(input_shape=(512, 512, 3), include_top=False, weights='imagenet', pooling='avg')\n",
    "#         base_model2 = EfficientNetB6(input_shape=(512, 512, 3), include_top=False, weights='imagenet', pooling='avg')\n",
    "#         base_model3 = EfficientNetB7(input_shape=(512, 512, 3), include_top=False, weights='imagenet', pooling='avg')\n",
    "#         mname = 'Ensemble_B5B6B7_distilled'\n",
    "#         y1 = base_model1.output\n",
    "#         y1 = tf.keras.layers.Dropout(0.2)(y1)\n",
    "#         logits1 = tf.keras.layers.Dense(5, name = 'logits')(y1)\n",
    "#         y2 = base_model2.output\n",
    "#         y2 = tf.keras.layers.Dropout(0.2)(y2)\n",
    "#         logits2 = tf.keras.layers.Dense(5, name = 'logits')(y2)\n",
    "#         y3 = base_model3.output\n",
    "#         y3 = tf.keras.layers.Dropout(0.2)(y3)\n",
    "#         logits3 = tf.keras.layers.Dense(5, name = 'logits')(y3)\n",
    "#         m1 = Model(inputs=base_model1.input, outputs=logits1, name='EfficientNetB5')\n",
    "#         m2 = Model(inputs=base_model2.input, outputs=logits2, name='EfficientNetB6')\n",
    "#         m3 = Model(inputs=base_model3.input, outputs=logits3, name='EfficientNetB7')\n",
    "#         inp = Input(shape=(512, 512, 3), name = 'input')\n",
    "#         m1o = m1(inp)\n",
    "#         m2o = m2(inp)\n",
    "#         m3o = m3(inp)\n",
    "#         mo = Average(name = 'average')([m1o, m2o,m3o])#, model4_output])\n",
    "#         m = tf.keras.models.Model(inputs=inp, outputs=mo, name = mname)\n",
    "        \n",
    "# #     # Count the number of trainable and non-trainable parameters\n",
    "# #     trainable_params = m.count_params()\n",
    "# #     non_trainable_params = sum([tf.keras.backend.count_params(w) for w in m.non_trainable_weights])\n",
    "\n",
    "# #     # Print the counts\n",
    "# #     print(m.name)\n",
    "# #     print(\"Trainable Parameters:\", trainable_params)\n",
    "# #     print(\"Non-trainable Parameters:\", non_trainable_params)"
   ]
  },
  {
   "cell_type": "markdown",
   "id": "3f46c4a0",
   "metadata": {},
   "source": [
    "#### Teacher models with inference time"
   ]
  },
  {
   "cell_type": "code",
   "execution_count": 15,
   "id": "926e2bca",
   "metadata": {},
   "outputs": [
    {
     "name": "stderr",
     "output_type": "stream",
     "text": [
      "2023-07-12 07:05:41.917831: I tensorflow/core/platform/cpu_feature_guard.cc:142] This TensorFlow binary is optimized with oneAPI Deep Neural Network Library (oneDNN) to use the following CPU instructions in performance-critical operations:  SSE4.1 SSE4.2 AVX AVX2 AVX512F FMA\n",
      "To enable them in other operations, rebuild TensorFlow with the appropriate compiler flags.\n",
      "2023-07-12 07:05:41.922204: I tensorflow/compiler/jit/xla_gpu_device.cc:99] Not creating XLA devices, tf_xla_enable_xla_devices not set\n",
      "2023-07-12 07:05:48.015575: I tensorflow/compiler/mlir/mlir_graph_optimization_pass.cc:116] None of the MLIR optimization passes are enabled (registered 2)\n",
      "2023-07-12 07:05:48.034457: I tensorflow/core/platform/profile_utils/cpu_utils.cc:112] CPU Frequency: 2300000000 Hz\n"
     ]
    },
    {
     "name": "stdout",
     "output_type": "stream",
     "text": [
      "Model: EffNetB7_distilled, Avg. Inference Time based on 10 inference runs per 1000 Images: 15770.300040245056 seconds\n",
      "Model: \"Ensemble_B5B6B7_distilled\"\n",
      "__________________________________________________________________________________________________\n",
      "Layer (type)                    Output Shape         Param #     Connected to                     \n",
      "==================================================================================================\n",
      "input (InputLayer)              [(None, 512, 512, 3) 0                                            \n",
      "__________________________________________________________________________________________________\n",
      "EfficientNetB5 (Functional)     (None, 5)            28523772    input[0][0]                      \n",
      "__________________________________________________________________________________________________\n",
      "EfficientNetB6 (Functional)     (None, 5)            40971668    input[0][0]                      \n",
      "__________________________________________________________________________________________________\n",
      "EfficientNetB7 (Functional)     (None, 5)            64110492    input[0][0]                      \n",
      "__________________________________________________________________________________________________\n",
      "average (Average)               (None, 5)            0           EfficientNetB5[0][0]             \n",
      "                                                                 EfficientNetB6[0][0]             \n",
      "                                                                 EfficientNetB7[0][0]             \n",
      "==================================================================================================\n",
      "Total params: 133,605,932\n",
      "Trainable params: 132,898,023\n",
      "Non-trainable params: 707,909\n",
      "__________________________________________________________________________________________________\n",
      "Model: Ensemble_B5B6B7_distilled, Avg. Inference Time based on 10 inference runs per 1000 Images: 31775.95271587372 seconds\n"
     ]
    }
   ],
   "source": [
    "models=['b7','Ensemble_b5b6b7'] # 'b0','b1','b2','Ensemble_b0b1','Ensemble_b0b1b2','b5','b6'\n",
    "warmup_iterations = 5\n",
    "inference_iterations = 10\n",
    "# Define the number of images\n",
    "num_images = test_generator.n #400\n",
    "\n",
    "for model_selected in models:\n",
    "    # Warm-up phase\n",
    "    if model_selected == 'b0':\n",
    "        base_model = EfficientNetB0(input_shape=(512, 512, 3), include_top=False, weights='imagenet', pooling='avg')\n",
    "        mname = 'EffNetB0_distilled'\n",
    "        y = base_model.output\n",
    "        y = tf.keras.layers.Dropout(0.2)(y)\n",
    "        logits = tf.keras.layers.Dense(5, name = 'logits')(y)\n",
    "        m = tf.keras.models.Model(inputs=base_model.input, outputs=logits, name = mname)\n",
    "        \n",
    "    elif model_selected == 'b1':\n",
    "        base_model = EfficientNetB1(input_shape=(512, 512, 3), include_top=False, weights='imagenet', pooling='avg')\n",
    "        mname = 'EffNetB1_distilled'\n",
    "        y = base_model.output\n",
    "        y = tf.keras.layers.Dropout(0.2)(y)\n",
    "        logits = tf.keras.layers.Dense(5, name = 'logits')(y)\n",
    "        m = tf.keras.models.Model(inputs=base_model.input, outputs=logits, name = mname)\n",
    "        \n",
    "    elif model_selected == 'b2':\n",
    "        base_model = EfficientNetB2(input_shape=(512, 512, 3), include_top=False, weights='imagenet', pooling='avg')\n",
    "        mname = 'EffNetB2_distilled'\n",
    "        y = base_model.output\n",
    "        y = tf.keras.layers.Dropout(0.2)(y)\n",
    "        logits = tf.keras.layers.Dense(5, name = 'logits')(y)\n",
    "        m = tf.keras.models.Model(inputs=base_model.input, outputs=logits, name = mname)\n",
    "        \n",
    "    elif model_selected == 'Ensemble_b0b1':\n",
    "        base_model1 = EfficientNetB0(input_shape=(512, 512, 3), include_top=False, weights='imagenet', pooling='avg')\n",
    "        base_model2 = EfficientNetB1(input_shape=(512, 512, 3), include_top=False, weights='imagenet', pooling='avg')\n",
    "        mname = 'Ensemble_B0B1_distilled'\n",
    "        y1 = base_model1.output\n",
    "        y1 = tf.keras.layers.Dropout(0.2)(y1)\n",
    "        logits1 = tf.keras.layers.Dense(5, name = 'logits')(y1)\n",
    "        y2 = base_model2.output\n",
    "        y2 = tf.keras.layers.Dropout(0.2)(y2)\n",
    "        logits2 = tf.keras.layers.Dense(5, name = 'logits')(y2)\n",
    "        m1 = Model(inputs=base_model1.input, outputs=logits1, name='EfficientNetB0')\n",
    "        m2 = Model(inputs=base_model2.input, outputs=logits2, name='EfficientNetB1')\n",
    "        inp = Input(shape=(512, 512, 3), name = 'input')\n",
    "        m1o = m1(inp)\n",
    "        m2o = m2(inp)\n",
    "        mo = Average(name = 'average')([m1o, m2o])#, model4_output])\n",
    "        m = tf.keras.models.Model(inputs=inp, outputs=mo, name = mname)\n",
    "        \n",
    "    elif model_selected == 'Ensemble_b0b1b2':\n",
    "        base_model1 = EfficientNetB0(input_shape=(512, 512, 3), include_top=False, weights='imagenet', pooling='avg')\n",
    "        base_model2 = EfficientNetB1(input_shape=(512, 512, 3), include_top=False, weights='imagenet', pooling='avg')\n",
    "        base_model3 = EfficientNetB2(input_shape=(512, 512, 3), include_top=False, weights='imagenet', pooling='avg')\n",
    "        mname = 'Ensemble_B0B1B2_distilled'\n",
    "        y1 = base_model1.output\n",
    "        y1 = tf.keras.layers.Dropout(0.2)(y1)\n",
    "        logits1 = tf.keras.layers.Dense(5, name = 'logits')(y1)\n",
    "        y2 = base_model2.output\n",
    "        y2 = tf.keras.layers.Dropout(0.2)(y2)\n",
    "        logits2 = tf.keras.layers.Dense(5, name = 'logits')(y2)\n",
    "        y3 = base_model3.output\n",
    "        y3 = tf.keras.layers.Dropout(0.2)(y3)\n",
    "        logits3 = tf.keras.layers.Dense(5, name = 'logits')(y3)\n",
    "        m1 = Model(inputs=base_model1.input, outputs=logits1, name='EfficientNetB0')\n",
    "        m2 = Model(inputs=base_model2.input, outputs=logits2, name='EfficientNetB1')\n",
    "        m3 = Model(inputs=base_model3.input, outputs=logits3, name='EfficientNetB2')\n",
    "        inp = Input(shape=(512, 512, 3), name = 'input')\n",
    "        m1o = m1(inp)\n",
    "        m2o = m2(inp)\n",
    "        m3o = m3(inp)\n",
    "        mo = Average(name = 'average')([m1o, m2o,m3o])#, model4_output])\n",
    "        m = tf.keras.models.Model(inputs=inp, outputs=mo, name = mname)\n",
    "        \n",
    "    elif model_selected == 'b5':\n",
    "        base_model = EfficientNetB5(input_shape=(512, 512, 3), include_top=False, weights='imagenet', pooling='avg')\n",
    "        mname = 'EffNetB5_distilled'\n",
    "        y = base_model.output\n",
    "        y = tf.keras.layers.Dropout(0.2)(y)\n",
    "        logits = tf.keras.layers.Dense(5, name = 'logits')(y)\n",
    "        m = tf.keras.models.Model(inputs=base_model.input, outputs=logits, name = mname)\n",
    "        \n",
    "    elif model_selected == 'b6':\n",
    "        base_model = EfficientNetB6(input_shape=(512, 512, 3), include_top=False, weights='imagenet', pooling='avg')\n",
    "        mname = 'EffNetB6_distilled'\n",
    "        y = base_model.output\n",
    "        y = tf.keras.layers.Dropout(0.2)(y)\n",
    "        logits = tf.keras.layers.Dense(5, name = 'logits')(y)\n",
    "        m = tf.keras.models.Model(inputs=base_model.input, outputs=logits, name = mname)\n",
    "        \n",
    "    elif model_selected == 'b7':\n",
    "        base_model = EfficientNetB7(input_shape=(512, 512, 3), include_top=False, weights='imagenet', pooling='avg')\n",
    "        mname = 'EffNetB7_distilled'\n",
    "        y = base_model.output\n",
    "        y = tf.keras.layers.Dropout(0.2)(y)\n",
    "        logits = tf.keras.layers.Dense(5, name = 'logits')(y)\n",
    "        m = tf.keras.models.Model(inputs=base_model.input, outputs=logits, name = mname)\n",
    "\n",
    "    elif model_selected == 'Ensemble_b5b6b7':\n",
    "        base_model1 = EfficientNetB5(input_shape=(512, 512, 3), include_top=False, weights='imagenet', pooling='avg')\n",
    "        base_model2 = EfficientNetB6(input_shape=(512, 512, 3), include_top=False, weights='imagenet', pooling='avg')\n",
    "        base_model3 = EfficientNetB7(input_shape=(512, 512, 3), include_top=False, weights='imagenet', pooling='avg')\n",
    "        mname = 'Ensemble_B5B6B7_distilled'\n",
    "        y1 = base_model1.output\n",
    "        y1 = tf.keras.layers.Dropout(0.2)(y1)\n",
    "        logits1 = tf.keras.layers.Dense(5, name = 'logits')(y1)\n",
    "        y2 = base_model2.output\n",
    "        y2 = tf.keras.layers.Dropout(0.2)(y2)\n",
    "        logits2 = tf.keras.layers.Dense(5, name = 'logits')(y2)\n",
    "        y3 = base_model3.output\n",
    "        y3 = tf.keras.layers.Dropout(0.2)(y3)\n",
    "        logits3 = tf.keras.layers.Dense(5, name = 'logits')(y3)\n",
    "        m1 = Model(inputs=base_model1.input, outputs=logits1, name='EfficientNetB5')\n",
    "        m2 = Model(inputs=base_model2.input, outputs=logits2, name='EfficientNetB6')\n",
    "        m3 = Model(inputs=base_model3.input, outputs=logits3, name='EfficientNetB7')\n",
    "        inp = Input(shape=(512, 512, 3), name = 'input')\n",
    "        m1o = m1(inp)\n",
    "        m2o = m2(inp)\n",
    "        m3o = m3(inp)\n",
    "        mo = Average(name = 'average')([m1o, m2o,m3o])#, model4_output])\n",
    "        m = tf.keras.models.Model(inputs=inp, outputs=mo, name = mname)\n",
    "        m.summary()\n",
    "    for _ in range(warmup_iterations):\n",
    "        images, _ = test_generator.next()\n",
    "        _ = m.predict(images)\n",
    "    # Inference phase\n",
    "    total_time = 0.0\n",
    "    for _ in range(inference_iterations):\n",
    "        images, _ = test_generator.next()\n",
    "        start_time = time.time()\n",
    "        _ = m.predict(images)\n",
    "        end_time = time.time()\n",
    "        inference_time = end_time - start_time\n",
    "        total_time += inference_time\n",
    "    # Calculate the average inference time per 100 images\n",
    "    avg_inference_time = total_time / inference_iterations * (num_images / test_generator.batch_size)\n",
    "    print(f\"Model: {m.name}, Avg. Inference Time based on {inference_iterations} inference runs per {num_images} Images: {avg_inference_time} seconds\")"
   ]
  },
  {
   "cell_type": "markdown",
   "id": "ac8a05d8",
   "metadata": {},
   "source": [
    "#### Distilled students with inference time"
   ]
  },
  {
   "cell_type": "code",
   "execution_count": null,
   "id": "a1e62283",
   "metadata": {},
   "outputs": [],
   "source": [
    "# models = ['MobNetv3small_1.0_minimalistic_distilled_finalexp1_epoch13.h5','MobNetv3small_1.0_minimalistic_distilled_finalexp2_epoch416.h5','EffNetB0_distilled_finalexp3_epoch359.h5','EffNetB0_distilled_finalexp4_epoch109.h5','EffNetB1_distilled_finalexp5_epoch79.h5',\n",
    "#           'EffNetB1_distilled_finalexp6_epoch271.h5','EffNetB0_distilled_finalexp7_epoch86.h5','EffNetB1_distilled_finalexp8_epoch176.h5','EffNetB2_distilled_finalexp9_epoch155.h5','EffNetB2_distilled_finalexp10_epoch48.h5','EffNetB2_distilled_finalexp11_epoch128.h5','EffNetB2_distilled_finalexp12_epoch80.h5',\n",
    "#           'EffNetB2_distilled_finalexp13_epoch186.h5','EffNetB2_distilled_finalexp14_epoch151.h5','EffNetB2_distilled_finalexp15_epoch81.h5','EffNetB0_distilled_finalexp16_epoch86.h5','EffNetB1_distilled_finalexp17_epoch238.h5','EffNetB0_distilled_withTclassifier_finalexp18_epoch192.h5',\n",
    "#           'EffNetB1_distilled_withTclassifier_finalexp19_epoch124.h5','EffNetB2_distilled_withTclassifier_finalexp20_epoch144.h5','EffNetB0_distilled_finalexp21_epoch212.h5','EffNetB0_distilled_finalexp22_epoch420.h5','EffNetB0_distilled_finalexp23_epoch250.h5','EffNetB0_distilled_finalexp24_epoch209.h5','EffNetB1_distilled_finalexp25_epoch328.h5',\n",
    "#           'EffNetB2_distilled_finalexp26_epoch511.h5']#\n",
    "# y_true_model = tf.keras.utils.to_categorical(test_generator.classes)\n",
    "# for model in models[-1:]:\n",
    "#     m = load_model('./models/distilled_students/'+model)\n",
    "# #     m = load_model('./'+'teacher_ensemble_b4b5b6_retcad'+'.h5')\n",
    "# #     m = load_model('./models/teacher_ensembles/'+'teacher_ensemble_v3_b4b5b6'+'.h5')\n",
    "# #     m = load_model('./models/teacher_experiments/EffNet_B5_exp15.h5')\n",
    "#     y_pred_model = m.predict(test_generator)\n",
    "#     plot_conf_matrix_noact(m.name,y_true_model,y_pred_model)\n",
    "#     plot_model_binary_noact(m.name,y_true_model,y_pred_model)"
   ]
  },
  {
   "cell_type": "code",
   "execution_count": null,
   "id": "6eeef43f",
   "metadata": {},
   "outputs": [],
   "source": [
    "# import time\n",
    "# models = ['14_EffNet_B4_imagenet_norescale_sameastfmodel_rev.h5','15_EffNet_B5_imagenet_norescale_sameastfmodel_rev.h5',\n",
    "#           '16_EffNet_B6_imagenet_norescale_sameastfmodel_rev.h5','17_EffNet_B7_imagenet_norescale_sameastfmodel_rev.h5']#\n",
    "# ensembles = ['teacher_ensemble_v3_b4b5b6.h5']\n",
    "# y_true_model = tf.keras.utils.to_categorical(test_generator.classes)\n",
    "# for model in models:\n",
    "#     m = load_model('./models/teacher_experiments/'+model)\n",
    "#     start_time = time.time()\n",
    "#     y_pred_model = m.predict(test_generator)\n",
    "#     end_time = time.time()\n",
    "#     inference_time = end_time - start_time\n",
    "# #     plot_conf_matrix(m.name,y_true_model,y_pred_model)\n",
    "# #     plot_model_binary(m.name,y_true_model,y_pred_model)\n",
    "#     print(\"Model:\", model)\n",
    "#     print(\"Inference Time:\", inference_time, \"seconds\")\n",
    "#     print(\"---\")\n",
    "# for model in ensembles[-1:]:\n",
    "#     m = load_model('./models/teacher_ensembles/'+model)\n",
    "#     start_time = time.time()\n",
    "#     y_pred_model = m.predict(test_generator)\n",
    "#     end_time = time.time()\n",
    "#     inference_time = end_time - start_time\n",
    "# #     plot_conf_matrix(m.name,y_true_model,y_pred_model)\n",
    "# #     plot_model_binary(m.name,y_true_model,y_pred_model)\n",
    "#     print(\"Model:\", model)\n",
    "#     print(\"Inference Time:\", inference_time, \"seconds\")\n",
    "#     print(\"---\")\n",
    "\n",
    "# models = ['MobNetv3small_1.0_minimalistic_distilled_finalexp1.h5','MobNetv3small_1.0_minimalistic_distilled_finalexp2.h5','EffNetB0_distilled_finalexp3.h5',\n",
    "#           'EffNetB0_distilled_finalexp4.h5','EffNetB1_distilled_finalexp5_epoch79.h5','EffNetB1_distilled_finalexp6.h5',\n",
    "#           'EffNetB0_distilled_finalexp7.h5','EffNetB1_distilled_finalexp8.h5','EffNetB2_distilled_finalexp9.h5',\n",
    "#           'EffNetB2_distilled_finalexp10.h5','EffNetB2_distilled_finalexp11.h5','EffNetB2_distilled_finalexp12.h5',\n",
    "#           'EffNetB2_distilled_finalexp13.h5','EffNetB2_distilled_finalexp14.h5','EffNetB2_distilled_finalexp15.h5',\n",
    "#           'EffNetB0_distilled_finalexp16.h5','EffNetB1_distilled_finalexp17.h5','EffNetB0_distilled_withTclassifier_finalexp18.h5',\n",
    "#           'EffNetB1_distilled_withTclassifier_finalexp19.h5','EffNetB2_distilled_withTclassifier_finalexp20.h5',\n",
    "#           'EffNetB0_distilled_finalexp21.h5','EffNetB0_distilled_finalexp22.h5','EffNetB0_distilled_finalexp23.h5',\n",
    "#           'EffNetB0_distilled_finalexp24.h5','EffNetB1_distilled_finalexp25.h5','EffNetB2_distilled_finalexp26.h5',\n",
    "#           'student_distilled_ensemble_b0b1_NoActivation.h5','student_distilled_ensemble_b0b1b2_NoActivation.h5']#\n",
    "# y_true_model = tf.keras.utils.to_categorical(test_generator.classes)\n",
    "# for model in models[-8:]:\n",
    "#     m = load_model('./models/distilled_students/'+model)\n",
    "#     start_time = time.time()\n",
    "#     y_pred_model = m.predict(test_generator)\n",
    "#     end_time = time.time()\n",
    "#     inference_time = end_time - start_time\n",
    "#     plot_conf_matrix_noact(m.name,y_true_model,y_pred_model)\n",
    "#     plot_model_binary_noact(m.name,y_true_model,y_pred_model)\n",
    "#     print(\"Model:\", model)\n",
    "#     print(\"Inference Time:\", inference_time, \"seconds\")\n",
    "#     print(\"---\")"
   ]
  },
  {
   "cell_type": "markdown",
   "id": "a74f0c22",
   "metadata": {},
   "source": [
    "### Code for multi-model plots"
   ]
  },
  {
   "cell_type": "markdown",
   "id": "357ed555",
   "metadata": {},
   "source": [
    "#### Plot Type 1"
   ]
  },
  {
   "cell_type": "code",
   "execution_count": 21,
   "id": "f55ce0c8",
   "metadata": {},
   "outputs": [],
   "source": [
    "# scratchstudents_ensemble = load_model('./models/student_experiments/'+'student_scratch_ensemble_b0b1b2_NoActivation'+'.h5')\n",
    "# distilledstudents_ensemble = load_model('./models/distilled_students/'+'student_distilled_ensemble_b0b1b2_NoActivation'+'.h5')\n",
    "# y_true = tf.keras.utils.to_categorical(test_generator.classes)\n",
    "# y_pred_studscratch_ensemble = scratchstudents_ensemble.predict_generator(test_generator)\n",
    "# y_pred_studdistilled_ensemble = distilledstudents_ensemble.predict_generator(test_generator)\n",
    "# plot_twomodel_roccurve('student_scratch_ensemble_b0b1b2','student_distilled_ensemble_b0b1b2',y_true,y_pred_studscratch_ensemble,y_pred_studdistilled_ensemble)"
   ]
  },
  {
   "cell_type": "markdown",
   "id": "dac28264",
   "metadata": {},
   "source": [
    "#### Plot Type 2"
   ]
  },
  {
   "cell_type": "code",
   "execution_count": 22,
   "id": "8528c458",
   "metadata": {},
   "outputs": [
    {
     "name": "stderr",
     "output_type": "stream",
     "text": [
      "2023-06-27 10:50:49.175418: I tensorflow/core/platform/cpu_feature_guard.cc:142] This TensorFlow binary is optimized with oneAPI Deep Neural Network Library (oneDNN) to use the following CPU instructions in performance-critical operations:  SSE4.1 SSE4.2 AVX AVX2 AVX512F FMA\n",
      "To enable them in other operations, rebuild TensorFlow with the appropriate compiler flags.\n",
      "2023-06-27 10:50:49.180661: I tensorflow/compiler/jit/xla_gpu_device.cc:99] Not creating XLA devices, tf_xla_enable_xla_devices not set\n",
      "2023-06-27 10:50:49.181682: I tensorflow/core/common_runtime/gpu/gpu_device.cc:1720] Found device 0 with properties: \n",
      "pciBusID: 0000:1b:00.0 name: NVIDIA GeForce RTX 2080 Ti computeCapability: 7.5\n",
      "coreClock: 1.545GHz coreCount: 68 deviceMemorySize: 10.76GiB deviceMemoryBandwidth: 573.69GiB/s\n",
      "2023-06-27 10:50:49.181750: I tensorflow/stream_executor/platform/default/dso_loader.cc:49] Successfully opened dynamic library libcudart.so.10.1\n",
      "2023-06-27 10:50:49.181790: I tensorflow/stream_executor/platform/default/dso_loader.cc:49] Successfully opened dynamic library libcublas.so.10\n",
      "2023-06-27 10:50:49.181822: I tensorflow/stream_executor/platform/default/dso_loader.cc:49] Successfully opened dynamic library libcublasLt.so.10\n",
      "2023-06-27 10:50:49.181837: I tensorflow/stream_executor/platform/default/dso_loader.cc:49] Successfully opened dynamic library libcufft.so.10\n",
      "2023-06-27 10:50:49.181852: I tensorflow/stream_executor/platform/default/dso_loader.cc:49] Successfully opened dynamic library libcurand.so.10\n",
      "2023-06-27 10:50:49.181867: I tensorflow/stream_executor/platform/default/dso_loader.cc:49] Successfully opened dynamic library libcusolver.so.10\n",
      "2023-06-27 10:50:49.181882: I tensorflow/stream_executor/platform/default/dso_loader.cc:49] Successfully opened dynamic library libcusparse.so.10\n",
      "2023-06-27 10:50:49.181898: I tensorflow/stream_executor/platform/default/dso_loader.cc:49] Successfully opened dynamic library libcudnn.so.7\n",
      "2023-06-27 10:50:49.183220: I tensorflow/core/common_runtime/gpu/gpu_device.cc:1862] Adding visible gpu devices: 0\n",
      "2023-06-27 10:50:49.183264: I tensorflow/stream_executor/platform/default/dso_loader.cc:49] Successfully opened dynamic library libcudart.so.10.1\n",
      "2023-06-27 10:50:50.051613: I tensorflow/core/common_runtime/gpu/gpu_device.cc:1261] Device interconnect StreamExecutor with strength 1 edge matrix:\n",
      "2023-06-27 10:50:50.051648: I tensorflow/core/common_runtime/gpu/gpu_device.cc:1267]      0 \n",
      "2023-06-27 10:50:50.051655: I tensorflow/core/common_runtime/gpu/gpu_device.cc:1280] 0:   N \n",
      "2023-06-27 10:50:50.053448: I tensorflow/core/common_runtime/gpu/gpu_device.cc:1406] Created TensorFlow device (/job:localhost/replica:0/task:0/device:GPU:0 with 10075 MB memory) -> physical GPU (device: 0, name: NVIDIA GeForce RTX 2080 Ti, pci bus id: 0000:1b:00.0, compute capability: 7.5)\n"
     ]
    },
    {
     "name": "stdout",
     "output_type": "stream",
     "text": [
      "WARNING:tensorflow:No training configuration found in the save file, so the model was *not* compiled. Compile it manually.\n",
      "WARNING:tensorflow:No training configuration found in the save file, so the model was *not* compiled. Compile it manually.\n"
     ]
    },
    {
     "name": "stderr",
     "output_type": "stream",
     "text": [
      "2023-06-27 10:51:12.160880: I tensorflow/compiler/mlir/mlir_graph_optimization_pass.cc:116] None of the MLIR optimization passes are enabled (registered 2)\n",
      "2023-06-27 10:51:12.177834: I tensorflow/core/platform/profile_utils/cpu_utils.cc:112] CPU Frequency: 2300000000 Hz\n",
      "2023-06-27 10:51:24.321969: I tensorflow/stream_executor/platform/default/dso_loader.cc:49] Successfully opened dynamic library libcublas.so.10\n",
      "2023-06-27 10:51:24.607567: I tensorflow/stream_executor/platform/default/dso_loader.cc:49] Successfully opened dynamic library libcudnn.so.7\n",
      "2023-06-27 10:51:26.030819: W tensorflow/stream_executor/gpu/asm_compiler.cc:63] Running ptxas --version returned 256\n",
      "2023-06-27 10:51:26.203135: W tensorflow/stream_executor/gpu/redzone_allocator.cc:314] Internal: ptxas exited with non-zero error code 256, output: \n",
      "Relying on driver to perform ptx compilation. \n",
      "Modify $PATH to customize ptxas location.\n",
      "This message will be only logged once.\n"
     ]
    },
    {
     "data": {
      "image/png": "[encoded data removed]",
      "text/plain": [
       "<Figure size 640x480 with 1 Axes>"
      ]
     },
     "metadata": {},
     "output_type": "display_data"
    }
   ],
   "source": [
    "# teacher = load_model('./models/teacher_experiments/'+'EffNet_B7_exp17_NoActivation.h5')\n",
    "teacher = load_model('./models/teacher_ensembles/'+'ensemble_v3_NoActivation.h5')\n",
    "studentscratch = load_model('./models/student_experiments/'+'EffNet_B0_imagenet_norescale_sameastfmodel_rev_NoActivation'+'.h5')\n",
    "studentdistilled = load_model('./models/distilled_students/'+'EffNetB0_distilled_finalexp23'+'.h5')\n",
    "y_true = tf.keras.utils.to_categorical(test_generator.classes)\n",
    "y_pred_teacher = teacher.predict_generator(test_generator)\n",
    "y_pred_studscratch = studentscratch.predict_generator(test_generator)\n",
    "y_pred_studdist = studentdistilled.predict_generator(test_generator)\n",
    "plot_multimodel_roccurve('EnsembleB4B5B6_Teacher','EffnetB0ScratchStudent','EffnetB0DistilledStudent',y_true,y_pred_teacher,y_pred_studscratch,y_pred_studdist)"
   ]
  },
  {
   "cell_type": "markdown",
   "id": "ced895e6",
   "metadata": {},
   "source": [
    "### Calculating Ensemble Performance here:"
   ]
  },
  {
   "cell_type": "markdown",
   "id": "f88cb33b",
   "metadata": {},
   "source": [
    "### A. Performance of saved ensemble\n"
   ]
  },
  {
   "cell_type": "code",
   "execution_count": null,
   "id": "89923c27",
   "metadata": {},
   "outputs": [],
   "source": [
    "# # Load the ensemble model for prediction later\n",
    "# loaded_ensemble_model = load_model('teacher_ensemble.h5')\n",
    "# # loaded_ensemble_model = ensemble_model\n",
    "# # Use the loaded ensemble model to make predictions\n",
    "# y_true_ensemble = tf.keras.utils.to_categorical(test_generator.classes)\n",
    "# y_pred_ensemble = loaded_ensemble_model.predict_generator(test_generator)\n",
    "# plot_model_binary('Teacher_ensemble',y_true_ensemble,y_pred_ensemble)\n",
    "# plot_conf_matrix('Teacher_ensemble',y_true_ensemble,y_pred_ensemble)"
   ]
  },
  {
   "cell_type": "markdown",
   "id": "ac3c0281",
   "metadata": {},
   "source": [
    "### B. Performance of Saved ensemble v3 b4b5b6"
   ]
  },
  {
   "cell_type": "code",
   "execution_count": null,
   "id": "ea9469aa",
   "metadata": {},
   "outputs": [],
   "source": [
    "# # Load the ensemble model for prediction later\n",
    "# loaded_ensemble_model = load_model('teacher_ensemble_b4b5b6.h5')\n",
    "# # Use the loaded ensemble model to make predictions\n",
    "# y_true_ensemble = tf.keras.utils.to_categorical(test_generator.classes)\n",
    "# y_pred_ensemble = loaded_ensemble_model.predict_generator(test_generator)\n",
    "# plot_model_binary('Teacher_ensemble',y_true_ensemble,y_pred_ensemble)\n",
    "# plot_conf_matrix('Teacher_ensemble',y_true_ensemble,y_pred_ensemble)"
   ]
  },
  {
   "cell_type": "markdown",
   "id": "3d3170a8",
   "metadata": {},
   "source": [
    "### C. Performance of ensemble on the go from the individual models loaded below"
   ]
  },
  {
   "cell_type": "code",
   "execution_count": null,
   "id": "178da754",
   "metadata": {
    "scrolled": true
   },
   "outputs": [],
   "source": [
    "# mods=['EffNet_B5_imagenet_norescale_sameastfmodel','EffNet_B6_imagenet_norescale_sameastfmodel',\n",
    "#  'EffNet_B7_imagenet_norescale_sameastfmodel','EffNet_B4_imagenet_norescale_sameastfmodel']\n",
    "# model1 = load_model('./'+mods[0]+'.h5')\n",
    "# model2 = load_model('./'+mods[1]+'.h5')\n",
    "# model3 = load_model('./'+mods[2]+'.h5')\n",
    "# model4 = load_model('./'+mods[3]+'.h5')\n",
    "# y_true_ensemble = tf.keras.utils.to_categorical(test_generator.classes)\n",
    "# all_models=[model1,model2,model3,model4]\n",
    "# y_pred_ensemble=[]\n",
    "# for model in all_models:\n",
    "#         y_pred_ensemble.append(model.predict_generator(test_generator))"
   ]
  },
  {
   "cell_type": "markdown",
   "id": "ddc0f1ab",
   "metadata": {},
   "source": [
    "### D. Performance of saved ensemble student scratch and distilled student models"
   ]
  },
  {
   "cell_type": "code",
   "execution_count": null,
   "id": "44264061",
   "metadata": {},
   "outputs": [],
   "source": [
    "models = ['./models/distilled_students/student_distilled_ensemble_b0b1b2_NoActivation.h5',\n",
    "          './models/student_experiments/student_scratch_ensemble_b0b1b2_NoActivation.h5']#\n",
    "y_true_model = tf.keras.utils.to_categorical(test_generator.classes)\n",
    "for model in models:\n",
    "    m = load_model(model)\n",
    "#     m = load_model('./EffNet_B2_imagenet_norescale_sameastfmodel_rev.h5')\n",
    "#     m = load_model('./'+'teacher_ensemble_b4b5b6_retcad'+'.h5')\n",
    "#     m = load_model('./models/teacher_ensembles/'+'teacher_ensemble_v3_b4b5b6'+'.h5')\n",
    "#     m = load_model('./models/teacher_experiments/EffNet_B5_exp15.h5')\n",
    "    y_pred_model = m.predict(test_generator)\n",
    "    plot_conf_matrix(m.name,y_true_model,y_pred_model)\n",
    "    plot_model_binary(m.name,y_true_model,y_pred_model)"
   ]
  },
  {
   "cell_type": "code",
   "execution_count": null,
   "id": "3d214598",
   "metadata": {},
   "outputs": [],
   "source": [
    "# y_pred_ensemble = np.mean(y_pred_ensemble, axis=0)\n",
    "# y_true_ensemble = tf.keras.utils.to_categorical(test_generator.classes)\n",
    "# plot_model_binary('Teacher_ensemble',y_true_ensemble,y_pred_ensemble)\n",
    "# plot_conf_matrix('Teacher_ensemble',y_true_ensemble,y_pred_ensemble)"
   ]
  },
  {
   "cell_type": "code",
   "execution_count": null,
   "id": "0cc73a2c",
   "metadata": {},
   "outputs": [],
   "source": [
    "# models = ['MobNetv3small_0.75_224','EffNet_B4_imagenet']#\n",
    "# m = load_model('./'+models[0]+'.h5')\n",
    "# y_true = tf.keras.utils.to_categorical(test_generator.classes)\n",
    "# y_pred = m.predict_generator(test_generator)\n",
    "# plot_model_binary('B4_OLD',y_true,y_pred)\n",
    "# plot_conf_matrix('B4_OLD',y_true,y_pred)"
   ]
  },
  {
   "cell_type": "code",
   "execution_count": null,
   "id": "06d16ab5",
   "metadata": {},
   "outputs": [],
   "source": [
    "# x = train_generator.next()"
   ]
  },
  {
   "cell_type": "code",
   "execution_count": null,
   "id": "06f72ec8",
   "metadata": {},
   "outputs": [],
   "source": [
    "# x[0].shape"
   ]
  },
  {
   "cell_type": "code",
   "execution_count": null,
   "id": "4580ff37",
   "metadata": {},
   "outputs": [],
   "source": [
    "# m.predict(x[0]).argmax(1)"
   ]
  },
  {
   "cell_type": "code",
   "execution_count": null,
   "id": "c5245c22",
   "metadata": {},
   "outputs": [],
   "source": [
    "# plt.imshow(x[0][10])"
   ]
  },
  {
   "cell_type": "code",
   "execution_count": null,
   "id": "98eb00d0",
   "metadata": {},
   "outputs": [],
   "source": []
  }
 ],
 "metadata": {
  "kernelspec": {
   "display_name": "Python 3 (ipykernel)",
   "language": "python",
   "name": "python3"
  },
  "language_info": {
   "codemirror_mode": {
    "name": "ipython",
    "version": 3
   },
   "file_extension": ".py",
   "mimetype": "text/x-python",
   "name": "python",
   "nbconvert_exporter": "python",
   "pygments_lexer": "ipython3",
   "version": "3.9.7"
  }
 },
 "nbformat": 4,
 "nbformat_minor": 5
}
