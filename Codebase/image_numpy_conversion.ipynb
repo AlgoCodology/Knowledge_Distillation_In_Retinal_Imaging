{
 "cells": [
  {
   "cell_type": "code",
   "execution_count": 5,
   "id": "94b24258",
   "metadata": {},
   "outputs": [
    {
     "name": "stdout",
     "output_type": "stream",
     "text": [
      "   2002    2002   26811\n"
     ]
    }
   ],
   "source": [
    "!ls ./datasets/Kaggle/images|wc\n",
    "# x=!ls ./datasets/Kaggle/images\n",
    "# for img in x:\n",
    "#     if '.png' not in img:\n",
    "#         print(img)"
   ]
  },
  {
   "cell_type": "code",
   "execution_count": null,
   "id": "10dd951e",
   "metadata": {},
   "outputs": [],
   "source": [
    "import numpy as np\n",
    "from PIL import Image\n",
    "import os\n",
    "\n",
    "# Set the folder path containing the JPEG images\n",
    "folder_path = './datasets/Kaggle/images/'\n",
    "target_path = './datasets/Kaggle/Numpy_images/'\n",
    "\n",
    "# Loop through all the JPEG images in the folder\n",
    "for filename in os.listdir(folder_path):\n",
    "    if filename.endswith('.png'):\n",
    "        # Load the PNG image\n",
    "        img = Image.open(os.path.join(folder_path, filename))\n",
    "\n",
    "        # image to NumPy array\n",
    "        arr = np.array(img)\n",
    "\n",
    "        # Save the NumPy array as an NPY file\n",
    "        np.save(os.path.join(target_path, os.path.splitext(filename)[0] + '.npy'), arr)"
   ]
  },
  {
   "cell_type": "code",
   "execution_count": 2,
   "id": "5b0da965",
   "metadata": {},
   "outputs": [
    {
     "name": "stdout",
     "output_type": "stream",
     "text": [
      "Fri Apr  7 06:59:23 2023       \n",
      "+-----------------------------------------------------------------------------+\n",
      "| NVIDIA-SMI 515.86.01    Driver Version: 515.86.01    CUDA Version: 11.7     |\n",
      "|-------------------------------+----------------------+----------------------+\n",
      "| GPU  Name        Persistence-M| Bus-Id        Disp.A | Volatile Uncorr. ECC |\n",
      "| Fan  Temp  Perf  Pwr:Usage/Cap|         Memory-Usage | GPU-Util  Compute M. |\n",
      "|                               |                      |               MIG M. |\n",
      "|===============================+======================+======================|\n",
      "|   0  NVIDIA GeForce ...  On   | 00000000:05:00.0 Off |                  N/A |\n",
      "| 29%   28C    P8     8W / 250W |  10713MiB / 11264MiB |      0%      Default |\n",
      "|                               |                      |                  N/A |\n",
      "+-------------------------------+----------------------+----------------------+\n",
      "                                                                               \n",
      "+-----------------------------------------------------------------------------+\n",
      "| Processes:                                                                  |\n",
      "|  GPU   GI   CI        PID   Type   Process name                  GPU Memory |\n",
      "|        ID   ID                                                   Usage      |\n",
      "|=============================================================================|\n",
      "+-----------------------------------------------------------------------------+\n"
     ]
    }
   ],
   "source": [
    "!nvidia-smi"
   ]
  },
  {
   "cell_type": "code",
   "execution_count": null,
   "id": "bd7cdd5a",
   "metadata": {},
   "outputs": [],
   "source": []
  }
 ],
 "metadata": {
  "kernelspec": {
   "display_name": "Python 3 (ipykernel)",
   "language": "python",
   "name": "python3"
  },
  "language_info": {
   "codemirror_mode": {
    "name": "ipython",
    "version": 3
   },
   "file_extension": ".py",
   "mimetype": "text/x-python",
   "name": "python",
   "nbconvert_exporter": "python",
   "pygments_lexer": "ipython3",
   "version": "3.9.7"
  }
 },
 "nbformat": 4,
 "nbformat_minor": 5
}
