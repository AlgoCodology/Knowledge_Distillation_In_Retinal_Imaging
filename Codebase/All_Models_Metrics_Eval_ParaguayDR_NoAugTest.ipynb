{
 "cells": [
  {
   "cell_type": "code",
   "execution_count": 8,
   "id": "9763e704",
   "metadata": {
    "scrolled": true
   },
   "outputs": [],
   "source": [
    "import os\n",
    "# os.environ['CUDA_VISIBLE_DEVICES'] = '-1'"
   ]
  },
  {
   "cell_type": "code",
   "execution_count": 10,
   "id": "7a9bc1c6",
   "metadata": {
    "scrolled": true
   },
   "outputs": [
    {
     "data": {
      "application/javascript": [
       "IPython.OutputArea.prototype._should_scroll = function(lines) {\n",
       "    return false;\n",
       "}\n"
      ],
      "text/plain": [
       "<IPython.core.display.Javascript object>"
      ]
     },
     "metadata": {},
     "output_type": "display_data"
    }
   ],
   "source": [
    "%%javascript\n",
    "IPython.OutputArea.prototype._should_scroll = function(lines) {\n",
    "    return false;\n",
    "}"
   ]
  },
  {
   "cell_type": "code",
   "execution_count": 1,
   "id": "fef3104c",
   "metadata": {
    "scrolled": true
   },
   "outputs": [
    {
     "name": "stderr",
     "output_type": "stream",
     "text": [
      "2023-05-03 09:43:40.223568: I tensorflow/stream_executor/platform/default/dso_loader.cc:49] Successfully opened dynamic library libcudart.so.10.1\n"
     ]
    }
   ],
   "source": [
    "# Importing necessary libraries\n",
    "import pandas as pd\n",
    "import numpy as np\n",
    "import tensorflow as tf\n",
    "import PIL\n",
    "from PIL import ImageFilter\n",
    "# from tensorflow.python import keras\n",
    "from tensorflow import keras\n",
    "from tensorflow.keras.models import load_model\n",
    "# import tensorflow_hub as hub\n",
    "# from tensorflow.keras.applications import EfficientNetB4, MobileNetV3Small\n",
    "from tensorflow.keras.preprocessing.image import ImageDataGenerator\n",
    "from tensorflow.keras.callbacks import EarlyStopping, ModelCheckpoint,ReduceLROnPlateau, TensorBoard\n",
    "from tensorflow.keras import layers\n",
    "from tensorflow.keras import mixed_precision\n",
    "from tensorflow.keras.applications import *\n",
    "\n",
    "# from tensorflow.keras.mixed_precision import experimental as mixed_precision\n",
    "import os"
   ]
  },
  {
   "cell_type": "code",
   "execution_count": 2,
   "id": "49763d6a",
   "metadata": {
    "scrolled": true
   },
   "outputs": [
    {
     "name": "stdout",
     "output_type": "stream",
     "text": [
      "INFO:tensorflow:Mixed precision compatibility check (mixed_float16): OK\n",
      "Your GPU will likely run quickly with dtype policy mixed_float16 as it has compute capability of at least 7.0. Your GPU: NVIDIA GeForce RTX 2080 Ti, compute capability 7.5\n"
     ]
    },
    {
     "name": "stderr",
     "output_type": "stream",
     "text": [
      "2023-05-03 09:43:42.586100: I tensorflow/compiler/jit/xla_cpu_device.cc:41] Not creating XLA devices, tf_xla_enable_xla_devices not set\n",
      "2023-05-03 09:43:42.587403: I tensorflow/stream_executor/platform/default/dso_loader.cc:49] Successfully opened dynamic library libcuda.so.1\n",
      "2023-05-03 09:43:42.746702: I tensorflow/core/common_runtime/gpu/gpu_device.cc:1720] Found device 0 with properties: \n",
      "pciBusID: 0000:1b:00.0 name: NVIDIA GeForce RTX 2080 Ti computeCapability: 7.5\n",
      "coreClock: 1.545GHz coreCount: 68 deviceMemorySize: 10.76GiB deviceMemoryBandwidth: 573.69GiB/s\n",
      "2023-05-03 09:43:42.746737: I tensorflow/stream_executor/platform/default/dso_loader.cc:49] Successfully opened dynamic library libcudart.so.10.1\n",
      "2023-05-03 09:43:42.748461: I tensorflow/stream_executor/platform/default/dso_loader.cc:49] Successfully opened dynamic library libcublas.so.10\n",
      "2023-05-03 09:43:42.748515: I tensorflow/stream_executor/platform/default/dso_loader.cc:49] Successfully opened dynamic library libcublasLt.so.10\n",
      "2023-05-03 09:43:42.750057: I tensorflow/stream_executor/platform/default/dso_loader.cc:49] Successfully opened dynamic library libcufft.so.10\n",
      "2023-05-03 09:43:42.750329: I tensorflow/stream_executor/platform/default/dso_loader.cc:49] Successfully opened dynamic library libcurand.so.10\n",
      "2023-05-03 09:43:42.751960: I tensorflow/stream_executor/platform/default/dso_loader.cc:49] Successfully opened dynamic library libcusolver.so.10\n",
      "2023-05-03 09:43:42.752841: I tensorflow/stream_executor/platform/default/dso_loader.cc:49] Successfully opened dynamic library libcusparse.so.10\n",
      "2023-05-03 09:43:42.756414: I tensorflow/stream_executor/platform/default/dso_loader.cc:49] Successfully opened dynamic library libcudnn.so.7\n",
      "2023-05-03 09:43:42.757473: I tensorflow/core/common_runtime/gpu/gpu_device.cc:1862] Adding visible gpu devices: 0\n",
      "2023-05-03 09:43:42.758101: I tensorflow/compiler/jit/xla_cpu_device.cc:41] Not creating XLA devices, tf_xla_enable_xla_devices not set\n"
     ]
    }
   ],
   "source": [
    "# Enable mixed precision\n",
    "mixed_precision.set_global_policy('mixed_float16')\n",
    "# mixed_precision.set_global_policy('float32')\n",
    "import warnings\n",
    "warnings.filterwarnings('ignore')"
   ]
  },
  {
   "cell_type": "code",
   "execution_count": 14,
   "id": "1992b0bd",
   "metadata": {
    "scrolled": true
   },
   "outputs": [],
   "source": [
    "paraguayDR_path = './datasets/paraguayDR/'\n",
    "paraguayDR_path_train_test = paraguayDR_path+\"images/\"\n",
    "paraguay_csv = paraguayDR_path + \"ImageNames.csv\""
   ]
  },
  {
   "cell_type": "code",
   "execution_count": 18,
   "id": "233149ac",
   "metadata": {},
   "outputs": [
    {
     "name": "stdout",
     "output_type": "stream",
     "text": [
      "   1438    1438   11836\r\n"
     ]
    }
   ],
   "source": [
    "# paraguayDR_path_train_test\n",
    "!ls ./datasets/paraguayDR/images|wc"
   ]
  },
  {
   "cell_type": "code",
   "execution_count": 25,
   "id": "8bcef3c2",
   "metadata": {
    "scrolled": true
   },
   "outputs": [
    {
     "name": "stdout",
     "output_type": "stream",
     "text": [
      "(1437, 1)\n",
      "(1437, 1)\n",
      "Found 1437 validated image filenames.\n"
     ]
    }
   ],
   "source": [
    "# Define the paths to the image directory and the CSV file\n",
    "train_image_dir: str = paraguayDR_path_train_test\n",
    "csv_file = paraguay_csv #kaggle_csv #messidor_csv\n",
    "# Loading the dataset\n",
    "df = pd.read_csv(csv_file)\n",
    "\n",
    "# #uncomment for idrid data\n",
    "df = df[['Image']]\n",
    "print(df.shape)\n",
    "df['Image'] = df['Image'].astype(str)\n",
    "df.rename(columns={'Image': 'img_name'}, inplace=True)\n",
    "# df.dropna(how='all', inplace = True)\n",
    "# df_shuffled = df.sample(frac=1, random_state=1)\n",
    "# df = df_shuffled.copy()\n",
    "print(df.shape)\n",
    "test_datagen = ImageDataGenerator(rescale=None)\n",
    "\n",
    "test_generator = test_datagen.flow_from_dataframe(\n",
    "    dataframe=df,\n",
    "    directory=train_image_dir,\n",
    "    x_col=\"img_name\",\n",
    "    y_col=None,\n",
    "    target_size=(512, 512),\n",
    "    batch_size=32,\n",
    "    shuffle=False,\n",
    "    class_mode=None\n",
    "    )"
   ]
  },
  {
   "cell_type": "code",
   "execution_count": 26,
   "id": "df00fe15",
   "metadata": {},
   "outputs": [],
   "source": [
    "def aggregate_labels(y_true,y_pred):\n",
    "    original_labels = [0, 1, 2, 3, 4] # original labels\n",
    "    new_labels = [0, 1] # new labels\n",
    "    label_map = {0: 0, 1: 0, 2: 1, 3: 1, 4: 1} # mapping from original labels to new labels\n",
    "    new_y_true = np.zeros((y_true.shape[0], len(new_labels)))\n",
    "    new_y_pred = np.zeros((y_pred.shape[0], len(new_labels)))\n",
    "    for i, row in enumerate(y_true):\n",
    "        for j, val in enumerate(row):\n",
    "            if val == 1:\n",
    "                new_label = label_map[original_labels[j]]\n",
    "                new_y_true[i, new_label] = 1           \n",
    "    for i, row in enumerate(y_pred):\n",
    "        for j, val in enumerate(row):\n",
    "            new_label = label_map[original_labels[j]]\n",
    "            new_y_pred[i, new_label] += val\n",
    "#     print(\"original predictions:\\n\", y_pred)        \n",
    "#     print(\"Aggregated predictions:\\n\", new_y_pred)\n",
    "    return new_y_true, new_y_pred"
   ]
  },
  {
   "cell_type": "code",
   "execution_count": 27,
   "id": "aa76e789",
   "metadata": {},
   "outputs": [],
   "source": [
    "from sklearn.metrics import roc_curve, auc, roc_auc_score, accuracy_score, cohen_kappa_score, confusion_matrix\n",
    "import numpy as np\n",
    "import matplotlib.pyplot as plt\n",
    "def plot_model(model_name,y_true_original,y_pred_original):\n",
    "#     y_true = tf.keras.utils.to_categorical(test_generator.classes)\n",
    "#     y_pred = model.predict_generator(test_generator)\n",
    "    y_true,y_pred=aggregate_labels(y_true_original,y_pred_original)\n",
    "    print(np.shape(y_true),np.shape(y_pred))\n",
    "    # Compute ROC curve and AUC for each class\n",
    "    fpr = dict()\n",
    "    tpr = dict()\n",
    "    roc_auc = dict()\n",
    "    for i in range(2):\n",
    "        fpr[i], tpr[i], _ = roc_curve(y_true[:, i], y_pred[:, i])\n",
    "        roc_auc[i] = auc(fpr[i], tpr[i])\n",
    "#         print(type(fpr[i]),len(fpr[i]),fpr[i])\n",
    "#         print(np.shape(roc_auc[i]))\n",
    "        print(roc_auc[i])\n",
    "        print('_______________________')\n",
    "#         print(type(tpr[i]),len(tpr[i]),tpr[i])\n",
    "    print(len(y_true.ravel()))\n",
    "    # Compute micro-average ROC curve and AUC\n",
    "    fpr[\"micro\"], tpr[\"micro\"], _ = roc_curve(y_true.ravel(), y_pred.ravel())\n",
    "    roc_auc[\"micro\"] = auc(fpr[\"micro\"], tpr[\"micro\"])\n",
    "    \n",
    "    # Compute macro-average ROC curve and AUC\n",
    "    all_fpr = np.unique(np.concatenate([fpr[i] for i in range(2)]))\n",
    "    mean_tpr = np.zeros_like(all_fpr)\n",
    "    for i in range(2):\n",
    "        mean_tpr += np.interp(all_fpr, fpr[i], tpr[i])\n",
    "    mean_tpr /= 2\n",
    "    fpr[\"macro\"] = all_fpr\n",
    "    tpr[\"macro\"] = mean_tpr\n",
    "    roc_auc[\"macro\"] = auc(fpr[\"macro\"], tpr[\"macro\"])\n",
    "    aurocs = roc_auc_score(y_true, y_pred, multi_class = 'ovr', average = 'macro')\n",
    "    print(\"AUROC score for model \"+str(model_name)+\":\", aurocs)\n",
    "    # Plot ROC curves for each class and micro/macro-average\n",
    "    plt.figure()\n",
    "    lw = 2\n",
    "    plt.plot(fpr[\"micro\"], tpr[\"micro\"], color='deeppink',\n",
    "             lw=lw, label='micro-average ROC curve (AUC = %0.2f)' % roc_auc[\"micro\"])\n",
    "    plt.plot(fpr[\"macro\"], tpr[\"macro\"], color='navy',\n",
    "             lw=lw, label='macro-average ROC curve (AUC = %0.2f)' % roc_auc[\"macro\"])\n",
    "    colors = ['blue', 'green', 'red', 'cyan', 'magenta']\n",
    "    for i, color in zip(range(2), colors):\n",
    "        plt.plot(fpr[i], tpr[i], color=color, lw=lw,\n",
    "                 label='ROC curve of class %d (AUC = %0.2f)' % (i, roc_auc[i]))\n",
    "    plt.plot([0, 1], [0, 1], 'k--', lw=lw)\n",
    "    plt.xlim([0.0, 1.0])\n",
    "    plt.ylim([0.0, 1.0])\n",
    "    plt.xlabel('1 - Specificity')\n",
    "    plt.ylabel('Sensitivity')\n",
    "    plt.title('Receiver operating characteristic')\n",
    "    plt.legend(loc=\"lower right\")\n",
    "    plt.show()\n",
    "    \n",
    "def plot_model_binary(model_name,y_true_original,y_pred_original):\n",
    "    \n",
    "    y_true,y_pred=aggregate_labels(y_true_original,y_pred_original)\n",
    "#     print(np.shape(y_true),np.shape(y_pred))\n",
    "    \n",
    "    #saving data to verify manually\n",
    "    l1 = list(y_true[:,0].T)\n",
    "    l2 = list(y_true[:,1].T)\n",
    "    l3 = list(y_pred[:,0].T)\n",
    "    l4 = list(y_pred[:,1].T)\n",
    "    l5 = list(np.where(y_pred[:,1].T>0.5,1,0))\n",
    "    dictionary = {'True 0':l1,'True 1':l2,'Predicted 0':l3,'Predicted 1':l4,'Predicted_Onehot':l5}\n",
    "#     pd.DataFrame(dictionary).to_csv('results.csv', index = False, header = True)\n",
    "    \n",
    "    acc_score = accuracy_score(y_true[:,1],np.where(y_pred[:,1]<=0.5,0,1))\n",
    "    print('Accuracy:',acc_score)\n",
    "    \n",
    "    kappa_score = cohen_kappa_score(np.argmax(y_true_original,axis=1 ), np.argmax(y_pred_original,axis=1), weights='quadratic')\n",
    "    print('Quadratic Weighted Kappa:', kappa_score)\n",
    "    \n",
    "    # Compute ROC curve and AUC for each class\n",
    "    # calculate the false positive rate, true positive rate and thresholds using roc_curve\n",
    "    fpr, tpr, _ = roc_curve(y_true[:, 1], y_pred[:, 1])\n",
    "    # calculate the AUC score using roc_auc_score\n",
    "    auc_score = roc_auc_score(y_true[:, 1], y_pred[:, 1])\n",
    "    print(\"AUROC score for model \"+str(model_name)+\":\", auc_score)\n",
    "\n",
    "    # plot the ROC curve\n",
    "    plt.plot(fpr, tpr, label='ROC Curve (AUC = {:.3f})'.format(auc_score))\n",
    "    plt.plot([0, 1], [0, 1], linestyle='--', label='Random Guess')\n",
    "    plt.xlabel('FPR ( or 1 minus Specificity)')\n",
    "    plt.ylabel('TPR (or Sensitivity)')\n",
    "    plt.title('Receiver Operating Characteristic (ROC) Curve')\n",
    "    plt.legend()\n",
    "    plt.show()\n",
    "    \n",
    "def plot_conf_matrix(model_name, y_true_original,y_pred_original):\n",
    "    \n",
    "    y_true,y_pred=aggregate_labels(y_true_original,y_pred_original)\n",
    "    cm = confusion_matrix(y_true[:,1], np.where(y_pred[:,1]<=0.5,0,1))\n",
    "    # Plot the confusion matrix\n",
    "    plt.matshow(cm, cmap=plt.cm.Blues)\n",
    "    plt.colorbar()\n",
    "    for i in range(cm.shape[0]):\n",
    "        for j in range(cm.shape[1]):\n",
    "            plt.text(i, j, str(cm[i, j]), horizontalalignment='center', verticalalignment='center')\n",
    "    plt.xlabel('True label')\n",
    "    plt.ylabel('Predicted label')\n",
    "    plt.title('Confusion Matrix for model:'+model_name)\n",
    "    plt.show()"
   ]
  },
  {
   "cell_type": "code",
   "execution_count": 22,
   "id": "81ac6dd3",
   "metadata": {},
   "outputs": [],
   "source": [
    "# modelmobile = MobileNetV3Small(input_shape=(512, 512, 3),include_top=False,weights='imagenet',pooling='avg',alpha=1.0,minimalistic=True)\n",
    "# modelmobile.summary()"
   ]
  },
  {
   "cell_type": "code",
   "execution_count": 24,
   "id": "3a569da1",
   "metadata": {},
   "outputs": [],
   "source": [
    "# plot_model_binary(models[0],y_true,y_pred)\n",
    "# plot_conf_matrix(models[0],y_true,y_pred)\n",
    "# models[1:2]"
   ]
  },
  {
   "cell_type": "code",
   "execution_count": 28,
   "id": "926e2bca",
   "metadata": {
    "scrolled": true
   },
   "outputs": [
    {
     "name": "stderr",
     "output_type": "stream",
     "text": [
      "2023-05-03 10:28:05.619376: I tensorflow/core/platform/cpu_feature_guard.cc:142] This TensorFlow binary is optimized with oneAPI Deep Neural Network Library (oneDNN) to use the following CPU instructions in performance-critical operations:  SSE4.1 SSE4.2 AVX AVX2 AVX512F FMA\n",
      "To enable them in other operations, rebuild TensorFlow with the appropriate compiler flags.\n",
      "2023-05-03 10:28:05.622308: I tensorflow/compiler/jit/xla_gpu_device.cc:99] Not creating XLA devices, tf_xla_enable_xla_devices not set\n",
      "2023-05-03 10:28:05.623110: I tensorflow/core/common_runtime/gpu/gpu_device.cc:1720] Found device 0 with properties: \n",
      "pciBusID: 0000:1b:00.0 name: NVIDIA GeForce RTX 2080 Ti computeCapability: 7.5\n",
      "coreClock: 1.545GHz coreCount: 68 deviceMemorySize: 10.76GiB deviceMemoryBandwidth: 573.69GiB/s\n",
      "2023-05-03 10:28:05.623173: I tensorflow/stream_executor/platform/default/dso_loader.cc:49] Successfully opened dynamic library libcudart.so.10.1\n",
      "2023-05-03 10:28:05.623199: I tensorflow/stream_executor/platform/default/dso_loader.cc:49] Successfully opened dynamic library libcublas.so.10\n",
      "2023-05-03 10:28:05.623213: I tensorflow/stream_executor/platform/default/dso_loader.cc:49] Successfully opened dynamic library libcublasLt.so.10\n",
      "2023-05-03 10:28:05.623226: I tensorflow/stream_executor/platform/default/dso_loader.cc:49] Successfully opened dynamic library libcufft.so.10\n",
      "2023-05-03 10:28:05.623239: I tensorflow/stream_executor/platform/default/dso_loader.cc:49] Successfully opened dynamic library libcurand.so.10\n",
      "2023-05-03 10:28:05.623252: I tensorflow/stream_executor/platform/default/dso_loader.cc:49] Successfully opened dynamic library libcusolver.so.10\n",
      "2023-05-03 10:28:05.623265: I tensorflow/stream_executor/platform/default/dso_loader.cc:49] Successfully opened dynamic library libcusparse.so.10\n",
      "2023-05-03 10:28:05.623278: I tensorflow/stream_executor/platform/default/dso_loader.cc:49] Successfully opened dynamic library libcudnn.so.7\n",
      "2023-05-03 10:28:05.624242: I tensorflow/core/common_runtime/gpu/gpu_device.cc:1862] Adding visible gpu devices: 0\n",
      "2023-05-03 10:28:05.624273: I tensorflow/stream_executor/platform/default/dso_loader.cc:49] Successfully opened dynamic library libcudart.so.10.1\n",
      "2023-05-03 10:28:06.264636: I tensorflow/core/common_runtime/gpu/gpu_device.cc:1261] Device interconnect StreamExecutor with strength 1 edge matrix:\n",
      "2023-05-03 10:28:06.264664: I tensorflow/core/common_runtime/gpu/gpu_device.cc:1267]      0 \n",
      "2023-05-03 10:28:06.264673: I tensorflow/core/common_runtime/gpu/gpu_device.cc:1280] 0:   N \n",
      "2023-05-03 10:28:06.266369: I tensorflow/core/common_runtime/gpu/gpu_device.cc:1406] Created TensorFlow device (/job:localhost/replica:0/task:0/device:GPU:0 with 10075 MB memory) -> physical GPU (device: 0, name: NVIDIA GeForce RTX 2080 Ti, pci bus id: 0000:1b:00.0, compute capability: 7.5)\n"
     ]
    },
    {
     "name": "stdout",
     "output_type": "stream",
     "text": [
      "WARNING:tensorflow:No training configuration found in the save file, so the model was *not* compiled. Compile it manually.\n"
     ]
    },
    {
     "name": "stderr",
     "output_type": "stream",
     "text": [
      "2023-05-03 10:28:24.897083: I tensorflow/compiler/mlir/mlir_graph_optimization_pass.cc:116] None of the MLIR optimization passes are enabled (registered 2)\n",
      "2023-05-03 10:28:24.917928: I tensorflow/core/platform/profile_utils/cpu_utils.cc:112] CPU Frequency: 2300000000 Hz\n",
      "2023-05-03 10:28:35.088951: I tensorflow/stream_executor/platform/default/dso_loader.cc:49] Successfully opened dynamic library libcublas.so.10\n",
      "2023-05-03 10:28:35.570678: I tensorflow/stream_executor/platform/default/dso_loader.cc:49] Successfully opened dynamic library libcudnn.so.7\n",
      "2023-05-03 10:28:36.852288: W tensorflow/stream_executor/gpu/asm_compiler.cc:63] Running ptxas --version returned 256\n",
      "2023-05-03 10:28:36.956017: W tensorflow/stream_executor/gpu/redzone_allocator.cc:314] Internal: ptxas exited with non-zero error code 256, output: \n",
      "Relying on driver to perform ptx compilation. \n",
      "Modify $PATH to customize ptxas location.\n",
      "This message will be only logged once.\n"
     ]
    }
   ],
   "source": [
    "# # models = ['MobNetv3small_0.75_224','EffNet_B4_imagenet']#\n",
    "# for model in models[1:2]:\n",
    "# #     m = load_model('./'+model+'.h5')\n",
    "#     m = load_model('./'+'ensemble_model_b4b5b6b7_v1'+'.h5')\n",
    "#     y_true_model = tf.keras.utils.to_categorical(test_generator.classes)\n",
    "#     y_pred_model = m.predict_generator(test_generator)\n",
    "#     plot_model_binary(model,y_true_model,y_pred_model)\n",
    "#     plot_conf_matrix(model,y_true_model,y_pred_model)\n",
    "\n",
    "\n",
    "model = load_model('./'+'teacher_ensemble_b4b5b6'+'.h5')\n",
    "# y_true_model = tf.keras.utils.to_categorical(test_generator.classes)\n",
    "y_pred_model = model.predict_generator(test_generator)\n",
    "y_pred_labels = np.argmax(y_pred_model,axis=1)"
   ]
  },
  {
   "cell_type": "code",
   "execution_count": 33,
   "id": "120cff57",
   "metadata": {},
   "outputs": [],
   "source": [
    "df[['class_0_prob', 'class_1_prob', 'class_2_prob', 'class_3_prob', 'class_4_prob']] = y_pred_model\n",
    "df['Label_assigned'] = y_pred_labels\n",
    "df.to_csv('./datasets/paraguayDR/EnsembleLabels.csv', header=True, index=False)"
   ]
  },
  {
   "cell_type": "markdown",
   "id": "a456e314",
   "metadata": {},
   "source": [
    "### Calculating Ensemble Performance Here"
   ]
  },
  {
   "cell_type": "markdown",
   "id": "561b158d",
   "metadata": {},
   "source": [
    "### A. Performance of Saved ensemble v2 b4b5b6b7"
   ]
  },
  {
   "cell_type": "code",
   "execution_count": 28,
   "id": "395842bd",
   "metadata": {},
   "outputs": [],
   "source": [
    "# # Load the ensemble model for prediction later\n",
    "# loaded_ensemble_model = load_model('teacher_ensemble.h5')\n",
    "# # loaded_ensemble_model = ensemble_model\n",
    "# # Use the loaded ensemble model to make predictions\n",
    "# y_true_ensemble = tf.keras.utils.to_categorical(test_generator.classes)\n",
    "# y_pred_ensemble = loaded_ensemble_model.predict_generator(test_generator)\n",
    "# plot_model_binary('Teacher_ensemble',y_true_ensemble,y_pred_ensemble)\n",
    "# plot_conf_matrix('Teacher_ensemble',y_true_ensemble,y_pred_ensemble)"
   ]
  },
  {
   "cell_type": "markdown",
   "id": "db8bdf69",
   "metadata": {},
   "source": [
    "### B. Performance of Saved ensemble v3 b4b5b6"
   ]
  },
  {
   "cell_type": "code",
   "execution_count": 29,
   "id": "59f6d94c",
   "metadata": {
    "scrolled": true
   },
   "outputs": [
    {
     "name": "stderr",
     "output_type": "stream",
     "text": [
      "2023-05-02 12:50:53.778097: I tensorflow/core/platform/cpu_feature_guard.cc:142] This TensorFlow binary is optimized with oneAPI Deep Neural Network Library (oneDNN) to use the following CPU instructions in performance-critical operations:  SSE4.1 SSE4.2 AVX AVX2 AVX512F FMA\n",
      "To enable them in other operations, rebuild TensorFlow with the appropriate compiler flags.\n",
      "2023-05-02 12:50:53.781877: I tensorflow/compiler/jit/xla_gpu_device.cc:99] Not creating XLA devices, tf_xla_enable_xla_devices not set\n",
      "2023-05-02 12:50:53.782634: I tensorflow/core/common_runtime/gpu/gpu_device.cc:1720] Found device 0 with properties: \n",
      "pciBusID: 0000:1b:00.0 name: NVIDIA GeForce RTX 2080 Ti computeCapability: 7.5\n",
      "coreClock: 1.545GHz coreCount: 68 deviceMemorySize: 10.76GiB deviceMemoryBandwidth: 573.69GiB/s\n",
      "2023-05-02 12:50:53.782692: I tensorflow/stream_executor/platform/default/dso_loader.cc:49] Successfully opened dynamic library libcudart.so.10.1\n",
      "2023-05-02 12:50:53.782714: I tensorflow/stream_executor/platform/default/dso_loader.cc:49] Successfully opened dynamic library libcublas.so.10\n",
      "2023-05-02 12:50:53.782724: I tensorflow/stream_executor/platform/default/dso_loader.cc:49] Successfully opened dynamic library libcublasLt.so.10\n",
      "2023-05-02 12:50:53.782733: I tensorflow/stream_executor/platform/default/dso_loader.cc:49] Successfully opened dynamic library libcufft.so.10\n",
      "2023-05-02 12:50:53.782743: I tensorflow/stream_executor/platform/default/dso_loader.cc:49] Successfully opened dynamic library libcurand.so.10\n",
      "2023-05-02 12:50:53.782765: I tensorflow/stream_executor/platform/default/dso_loader.cc:49] Successfully opened dynamic library libcusolver.so.10\n",
      "2023-05-02 12:50:53.782774: I tensorflow/stream_executor/platform/default/dso_loader.cc:49] Successfully opened dynamic library libcusparse.so.10\n",
      "2023-05-02 12:50:53.782782: I tensorflow/stream_executor/platform/default/dso_loader.cc:49] Successfully opened dynamic library libcudnn.so.7\n",
      "2023-05-02 12:50:53.783706: I tensorflow/core/common_runtime/gpu/gpu_device.cc:1862] Adding visible gpu devices: 0\n",
      "2023-05-02 12:50:53.783734: I tensorflow/stream_executor/platform/default/dso_loader.cc:49] Successfully opened dynamic library libcudart.so.10.1\n",
      "2023-05-02 12:50:54.345834: I tensorflow/core/common_runtime/gpu/gpu_device.cc:1261] Device interconnect StreamExecutor with strength 1 edge matrix:\n",
      "2023-05-02 12:50:54.345885: I tensorflow/core/common_runtime/gpu/gpu_device.cc:1267]      0 \n",
      "2023-05-02 12:50:54.345894: I tensorflow/core/common_runtime/gpu/gpu_device.cc:1280] 0:   N \n",
      "2023-05-02 12:50:54.347503: I tensorflow/core/common_runtime/gpu/gpu_device.cc:1406] Created TensorFlow device (/job:localhost/replica:0/task:0/device:GPU:0 with 10075 MB memory) -> physical GPU (device: 0, name: NVIDIA GeForce RTX 2080 Ti, pci bus id: 0000:1b:00.0, compute capability: 7.5)\n"
     ]
    },
    {
     "name": "stdout",
     "output_type": "stream",
     "text": [
      "WARNING:tensorflow:No training configuration found in the save file, so the model was *not* compiled. Compile it manually.\n"
     ]
    },
    {
     "name": "stderr",
     "output_type": "stream",
     "text": [
      "2023-05-02 12:51:07.336042: I tensorflow/compiler/mlir/mlir_graph_optimization_pass.cc:116] None of the MLIR optimization passes are enabled (registered 2)\n",
      "2023-05-02 12:51:07.354060: I tensorflow/core/platform/profile_utils/cpu_utils.cc:112] CPU Frequency: 2300000000 Hz\n",
      "2023-05-02 12:51:15.749585: I tensorflow/stream_executor/platform/default/dso_loader.cc:49] Successfully opened dynamic library libcublas.so.10\n",
      "2023-05-02 12:51:15.972671: I tensorflow/stream_executor/platform/default/dso_loader.cc:49] Successfully opened dynamic library libcudnn.so.7\n",
      "2023-05-02 12:51:17.189929: W tensorflow/stream_executor/gpu/asm_compiler.cc:63] Running ptxas --version returned 256\n",
      "2023-05-02 12:51:17.284845: W tensorflow/stream_executor/gpu/redzone_allocator.cc:314] Internal: ptxas exited with non-zero error code 256, output: \n",
      "Relying on driver to perform ptx compilation. \n",
      "Modify $PATH to customize ptxas location.\n",
      "This message will be only logged once.\n"
     ]
    },
    {
     "name": "stdout",
     "output_type": "stream",
     "text": [
      "Accuracy: 0.937046004842615\n",
      "Quadratic Weighted Kappa: 0.860661703835833\n",
      "AUROC score for model Teacher_ensemble: 0.9925913854485284\n"
     ]
    },
    {
     "data": {
      "image/png": "[encoded data removed]",
      "text/plain": [
       "<Figure size 640x480 with 1 Axes>"
      ]
     },
     "metadata": {},
     "output_type": "display_data"
    },
    {
     "data": {
      "image/png": "[encoded data removed]",
      "text/plain": [
       "<Figure size 480x480 with 2 Axes>"
      ]
     },
     "metadata": {},
     "output_type": "display_data"
    }
   ],
   "source": [
    "# Load the ensemble model for prediction later\n",
    "loaded_ensemble_model = load_model('teacher_ensemble_b4b5b6.h5')\n",
    "# Use the loaded ensemble model to make predictions\n",
    "y_true_ensemble = tf.keras.utils.to_categorical(test_generator.classes)\n",
    "y_pred_ensemble = loaded_ensemble_model.predict_generator(test_generator)\n",
    "plot_model_binary('Teacher_ensemble',y_true_ensemble,y_pred_ensemble)\n",
    "plot_conf_matrix('Teacher_ensemble',y_true_ensemble,y_pred_ensemble)"
   ]
  },
  {
   "cell_type": "markdown",
   "id": "03f00aa4",
   "metadata": {},
   "source": [
    "### C. Performance of ensemble on the go from the individual models loaded below"
   ]
  },
  {
   "cell_type": "code",
   "execution_count": null,
   "id": "3ba8f5c5",
   "metadata": {},
   "outputs": [],
   "source": [
    "# mods=['EffNet_B5_imagenet_norescale_sameastfmodel','EffNet_B6_imagenet_norescale_sameastfmodel',\n",
    "#  'EffNet_B7_imagenet_norescale_sameastfmodel','EffNet_B4_imagenet_norescale_sameastfmodel']\n",
    "# model1 = load_model('./'+mods[0]+'.h5')\n",
    "# model2 = load_model('./'+mods[1]+'.h5')\n",
    "# model3 = load_model('./'+mods[2]+'.h5')\n",
    "# model4 = load_model('./'+mods[3]+'.h5')\n",
    "# y_true_ensemble = tf.keras.utils.to_categorical(test_generator.classes)\n",
    "# all_models=[model1,model2,model3,model4]\n",
    "# y_pred_ensemble=[]\n",
    "# for model in all_models:\n",
    "#         y_pred_ensemble.append(model.predict_generator(test_generator))"
   ]
  },
  {
   "cell_type": "code",
   "execution_count": null,
   "id": "c2b35232",
   "metadata": {},
   "outputs": [],
   "source": [
    "# y_pred_ensemble = np.mean(y_pred_ensemble, axis=0)\n",
    "# y_true_ensemble = tf.keras.utils.to_categorical(test_generator.classes)\n",
    "# plot_model_binary('Teacher_ensemble',y_true_ensemble,y_pred_ensemble)\n",
    "# plot_conf_matrix('Teacher_ensemble',y_true_ensemble,y_pred_ensemble)"
   ]
  },
  {
   "cell_type": "code",
   "execution_count": null,
   "id": "06d16ab5",
   "metadata": {},
   "outputs": [],
   "source": [
    "# x = train_generator.next()"
   ]
  },
  {
   "cell_type": "code",
   "execution_count": null,
   "id": "06f72ec8",
   "metadata": {},
   "outputs": [],
   "source": [
    "# x[0].shape"
   ]
  },
  {
   "cell_type": "code",
   "execution_count": null,
   "id": "4580ff37",
   "metadata": {},
   "outputs": [],
   "source": [
    "# m.predict(x[0]).argmax(1)"
   ]
  },
  {
   "cell_type": "code",
   "execution_count": null,
   "id": "c5245c22",
   "metadata": {},
   "outputs": [],
   "source": [
    "# plt.imshow(x[0][10])"
   ]
  },
  {
   "cell_type": "code",
   "execution_count": null,
   "id": "c41a92e5",
   "metadata": {},
   "outputs": [],
   "source": []
  }
 ],
 "metadata": {
  "kernelspec": {
   "display_name": "Python 3 (ipykernel)",
   "language": "python",
   "name": "python3"
  },
  "language_info": {
   "codemirror_mode": {
    "name": "ipython",
    "version": 3
   },
   "file_extension": ".py",
   "mimetype": "text/x-python",
   "name": "python",
   "nbconvert_exporter": "python",
   "pygments_lexer": "ipython3",
   "version": "3.9.7"
  }
 },
 "nbformat": 4,
 "nbformat_minor": 5
}
