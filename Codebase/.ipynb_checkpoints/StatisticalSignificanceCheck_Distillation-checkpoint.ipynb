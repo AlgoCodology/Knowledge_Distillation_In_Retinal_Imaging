{
 "cells": [
  {
   "cell_type": "code",
   "execution_count": 8,
   "id": "0845a754",
   "metadata": {},
   "outputs": [],
   "source": [
    "import os\n",
    "os.environ['CUDA_VISIBLE_DEVICES'] = '-1'"
   ]
  },
  {
   "cell_type": "code",
   "execution_count": 9,
   "id": "f192a05c",
   "metadata": {},
   "outputs": [
    {
     "data": {
      "text/plain": [
       "164"
      ]
     },
     "execution_count": 9,
     "metadata": {},
     "output_type": "execute_result"
    }
   ],
   "source": [
    "len(os.listdir(os.path.join('./datasets/AIROGS_partial/',os.listdir('./datasets/AIROGS_partial/')[0])))"
   ]
  },
  {
   "cell_type": "code",
   "execution_count": 10,
   "id": "c2639510",
   "metadata": {},
   "outputs": [],
   "source": [
    "# /models/teacher_experiments/\n",
    "# m = load_model('./models/teacher_experiments/EffNet_B7_imagenet_norescale_sameastfmodel_rev.h5')\n",
    "# new_model = Model(inputs = m.inputs, outputs = m.layers[-2].output, name = 'Effnet_b7_exp17_logits')\n",
    "# new_model.save('./models/teacher_experiments/EffNet_B7_exp17_NoActivation.h5')"
   ]
  },
  {
   "cell_type": "code",
   "execution_count": 11,
   "id": "33b709f8",
   "metadata": {},
   "outputs": [],
   "source": [
    "# m.summary()"
   ]
  },
  {
   "cell_type": "code",
   "execution_count": 12,
   "id": "fc857e75",
   "metadata": {},
   "outputs": [],
   "source": [
    "# new_model.summary()"
   ]
  },
  {
   "cell_type": "code",
   "execution_count": 18,
   "id": "45c2051c",
   "metadata": {},
   "outputs": [],
   "source": [
    "# Importing necessary libraries\n",
    "from PIL import Image, ImageFilter\n",
    "import pandas as pd\n",
    "import numpy as np\n",
    "import matplotlib.pyplot as plt\n",
    "import tensorflow as tf\n",
    "# from tensorflow.python import keras\n",
    "from tensorflow import keras\n",
    "# import tensorflow_hub as hub\n",
    "# from tensorflow.keras.applications import EfficientNetB4, MobileNetV3Small\n",
    "from tensorflow.keras.preprocessing.image import ImageDataGenerator\n",
    "from tensorflow.keras.models import load_model, save_model, Model\n",
    "from tensorflow.keras.callbacks import EarlyStopping, ModelCheckpoint,ReduceLROnPlateau, TensorBoard, Callback, ProgbarLogger\n",
    "from tensorflow.keras import layers\n",
    "from tensorflow.keras import mixed_precision\n",
    "from tensorflow.keras.applications import *\n",
    "# from tensorflow.keras.mixed_precision import experimental as mixed_precision\n",
    "import os\n",
    "\n",
    "tf.keras.backend.clear_session()\n",
    "\n",
    "# Enable mixed precision\n",
    "mixed_precision.set_global_policy('mixed_float16')\n",
    "# mixed_precision.set_global_policy('float32')\n",
    "import warnings\n",
    "warnings.filterwarnings('ignore')"
   ]
  },
  {
   "cell_type": "code",
   "execution_count": 19,
   "id": "5929cb48",
   "metadata": {},
   "outputs": [],
   "source": [
    "from scipy import stats\n",
    "dfscratch = pd.read_csv('./performance_stat_significance_comparision/Performance_Student.csv')#, header=True)\n",
    "dfdist = pd.read_csv('./performance_stat_significance_comparision/Performance_Distillation.csv')#, header=True)"
   ]
  },
  {
   "cell_type": "code",
   "execution_count": 20,
   "id": "ed189003",
   "metadata": {},
   "outputs": [],
   "source": [
    "# dfscratch.head()\n",
    "metrics = ['AUC','Qwk','Accuracy']\n",
    "datasets = ['IDRID','Kaggle','Messidor2']\n",
    "# dfscratch_reshaped = pd.Dataframe(columns=['Dataset','Model Name','Scratch_IDRID','Scratch_Kaggle','Scratch_Messidor2','Metric'])\n",
    "# dfdistreshaped = pd.Dataframe(columns=['Dataset','Model Name','Dist_IDRID','Dist_Kaggle','Dist_Messidor2','Metric'])\n",
    "dfscratch_reshaped = pd.DataFrame()\n",
    "dfdist_reshaped = pd.DataFrame()\n",
    "for metric in metrics:\n",
    "    df_reshaped1 = dfscratch.pivot(index='Model Name', columns='Dataset', values=metric).reset_index()\n",
    "    df_reshaped1['Metric'] = metric\n",
    "    for column in df_reshaped1.columns:\n",
    "        if column in datasets:\n",
    "            df_reshaped1.rename(columns={column:'Scratch_'+column}, inplace=True)\n",
    "    dfscratch_reshaped = dfscratch_reshaped.append(df_reshaped1)\n",
    "    dfscratch_reshaped = dfscratch_reshaped.reset_index(drop=True)\n",
    "    \n",
    "    df_reshaped2 = dfdist.pivot(index='Model Name', columns='Dataset', values=metric).reset_index()\n",
    "    df_reshaped2['Metric'] = metric\n",
    "    for column in df_reshaped2.columns:\n",
    "        if column in datasets:\n",
    "            df_reshaped2.rename(columns={column:'Dist_'+column}, inplace=True)\n",
    "    dfdist_reshaped = dfdist_reshaped.append(df_reshaped2)\n",
    "    dfdist_reshaped = dfdist_reshaped.reset_index(drop=True)\n",
    "\n",
    "dfscratch_reshaped = dfscratch_reshaped.rename_axis(None, axis=1)\n",
    "dfdist_reshaped = dfdist_reshaped.rename_axis(None, axis=1)\n",
    "dffinal = pd.merge(dfscratch_reshaped,dfdist_reshaped, on=['Model Name','Metric'])\n",
    "\n",
    "scratch_columns = ['Scratch_IDRID', 'Scratch_Kaggle', 'Scratch_Messidor2']\n",
    "dist_columns = ['Dist_IDRID', 'Dist_Kaggle', 'Dist_Messidor2']\n",
    "\n",
    "# Perform paired t-test and add results to DataFrame\n",
    "dffinal['T-statistic'], dffinal['P-value'] = zip(*dffinal.apply(\n",
    "    lambda row: stats.ttest_rel(row[dist_columns],row[scratch_columns],alternative='greater'), axis=1))\n",
    "# dffinal['Improvement (99% Confidence)'] = dffinal.apply(lambda row: 'significant' if row['T-statistic'] > 0 and row['P-value'] <= 0.01 else 'not significant', axis=1)\n",
    "dffinal['Improvement (95% Confidence)'] = dffinal.apply(lambda row: 'significant' if row['T-statistic'] > 0 and row['P-value'] <= 0.05 else 'not significant', axis=1)\n",
    "dffinal['Improvement (90% Confidence)'] = dffinal.apply(lambda row: 'significant' if row['T-statistic'] > 0 and row['P-value'] <= 0.1 else 'not significant', axis=1)\n",
    "# dffinal['Improvement (80% Confidence)'] = dffinal.apply(lambda row: 'significant' if row['T-statistic'] > 0 and row['P-value'] <= 0.2 else 'not significant', axis=1)\n",
    "# dffinal.head(15)\n",
    "dffinal.to_csv('Stat_Sig_Improved_Distillation_Performance.csv',header=True, index=False)"
   ]
  },
  {
   "cell_type": "code",
   "execution_count": null,
   "id": "12692976",
   "metadata": {},
   "outputs": [],
   "source": []
  }
 ],
 "metadata": {
  "kernelspec": {
   "display_name": "Python 3 (ipykernel)",
   "language": "python",
   "name": "python3"
  },
  "language_info": {
   "codemirror_mode": {
    "name": "ipython",
    "version": 3
   },
   "file_extension": ".py",
   "mimetype": "text/x-python",
   "name": "python",
   "nbconvert_exporter": "python",
   "pygments_lexer": "ipython3",
   "version": "3.9.7"
  }
 },
 "nbformat": 4,
 "nbformat_minor": 5
}
